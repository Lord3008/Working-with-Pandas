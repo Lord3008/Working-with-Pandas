{
 "cells": [
  {
   "cell_type": "code",
   "execution_count": 2,
   "id": "a3ef9d46",
   "metadata": {},
   "outputs": [],
   "source": [
    "import pandas as pd\n",
    "import numpy as np\n",
    "import matplotlib.pyplot as plt"
   ]
  },
  {
   "cell_type": "code",
   "execution_count": 6,
   "id": "996dca5b",
   "metadata": {},
   "outputs": [
    {
     "data": {
      "text/html": [
       "<div>\n",
       "<style scoped>\n",
       "    .dataframe tbody tr th:only-of-type {\n",
       "        vertical-align: middle;\n",
       "    }\n",
       "\n",
       "    .dataframe tbody tr th {\n",
       "        vertical-align: top;\n",
       "    }\n",
       "\n",
       "    .dataframe thead th {\n",
       "        text-align: right;\n",
       "    }\n",
       "</style>\n",
       "<table border=\"1\" class=\"dataframe\">\n",
       "  <thead>\n",
       "    <tr style=\"text-align: right;\">\n",
       "      <th></th>\n",
       "      <th>A</th>\n",
       "      <th>B</th>\n",
       "    </tr>\n",
       "  </thead>\n",
       "  <tbody>\n",
       "    <tr>\n",
       "      <th>0</th>\n",
       "      <td>1</td>\n",
       "      <td>4</td>\n",
       "    </tr>\n",
       "    <tr>\n",
       "      <th>1</th>\n",
       "      <td>2</td>\n",
       "      <td>5</td>\n",
       "    </tr>\n",
       "    <tr>\n",
       "      <th>2</th>\n",
       "      <td>3</td>\n",
       "      <td>6</td>\n",
       "    </tr>\n",
       "  </tbody>\n",
       "</table>\n",
       "</div>"
      ],
      "text/plain": [
       "   A  B\n",
       "0  1  4\n",
       "1  2  5\n",
       "2  3  6"
      ]
     },
     "execution_count": 6,
     "metadata": {},
     "output_type": "execute_result"
    }
   ],
   "source": [
    "pd.DataFrame({'A': [1, 2, 3],'B':[4, 5, 6]})"
   ]
  },
  {
   "cell_type": "code",
   "execution_count": 9,
   "id": "d070d200",
   "metadata": {},
   "outputs": [],
   "source": [
    "s = pd.Series([1, 3, 5, np.nan, 6, 8])"
   ]
  },
  {
   "cell_type": "code",
   "execution_count": 10,
   "id": "3d8abee8",
   "metadata": {},
   "outputs": [
    {
     "data": {
      "text/plain": [
       "0    1.0\n",
       "1    3.0\n",
       "2    5.0\n",
       "3    NaN\n",
       "4    6.0\n",
       "5    8.0\n",
       "dtype: float64"
      ]
     },
     "execution_count": 10,
     "metadata": {},
     "output_type": "execute_result"
    }
   ],
   "source": [
    "s"
   ]
  },
  {
   "cell_type": "code",
   "execution_count": 15,
   "id": "29da422f",
   "metadata": {},
   "outputs": [
    {
     "data": {
      "text/plain": [
       "DatetimeIndex(['2023-01-01', '2023-01-02', '2023-01-03', '2023-01-04',\n",
       "               '2023-01-05', '2023-01-06'],\n",
       "              dtype='datetime64[ns]', freq='D')"
      ]
     },
     "execution_count": 15,
     "metadata": {},
     "output_type": "execute_result"
    }
   ],
   "source": [
    "dates = pd.date_range(\"20230101\", periods=6)\n",
    "dates"
   ]
  },
  {
   "cell_type": "code",
   "execution_count": 16,
   "id": "b85abc00",
   "metadata": {},
   "outputs": [
    {
     "data": {
      "text/html": [
       "<div>\n",
       "<style scoped>\n",
       "    .dataframe tbody tr th:only-of-type {\n",
       "        vertical-align: middle;\n",
       "    }\n",
       "\n",
       "    .dataframe tbody tr th {\n",
       "        vertical-align: top;\n",
       "    }\n",
       "\n",
       "    .dataframe thead th {\n",
       "        text-align: right;\n",
       "    }\n",
       "</style>\n",
       "<table border=\"1\" class=\"dataframe\">\n",
       "  <thead>\n",
       "    <tr style=\"text-align: right;\">\n",
       "      <th></th>\n",
       "      <th>A</th>\n",
       "      <th>B</th>\n",
       "      <th>C</th>\n",
       "      <th>D</th>\n",
       "    </tr>\n",
       "  </thead>\n",
       "  <tbody>\n",
       "    <tr>\n",
       "      <th>2023-01-01</th>\n",
       "      <td>0.367499</td>\n",
       "      <td>0.460834</td>\n",
       "      <td>-0.677562</td>\n",
       "      <td>-0.547760</td>\n",
       "    </tr>\n",
       "    <tr>\n",
       "      <th>2023-01-02</th>\n",
       "      <td>0.142564</td>\n",
       "      <td>2.269747</td>\n",
       "      <td>-0.371492</td>\n",
       "      <td>-0.922889</td>\n",
       "    </tr>\n",
       "    <tr>\n",
       "      <th>2023-01-03</th>\n",
       "      <td>0.818588</td>\n",
       "      <td>1.710490</td>\n",
       "      <td>-1.809343</td>\n",
       "      <td>0.658250</td>\n",
       "    </tr>\n",
       "    <tr>\n",
       "      <th>2023-01-04</th>\n",
       "      <td>1.865549</td>\n",
       "      <td>-0.560709</td>\n",
       "      <td>0.153803</td>\n",
       "      <td>-2.473157</td>\n",
       "    </tr>\n",
       "    <tr>\n",
       "      <th>2023-01-05</th>\n",
       "      <td>-0.237241</td>\n",
       "      <td>0.512410</td>\n",
       "      <td>1.851669</td>\n",
       "      <td>1.086962</td>\n",
       "    </tr>\n",
       "    <tr>\n",
       "      <th>2023-01-06</th>\n",
       "      <td>0.500247</td>\n",
       "      <td>0.648036</td>\n",
       "      <td>0.326539</td>\n",
       "      <td>0.321646</td>\n",
       "    </tr>\n",
       "  </tbody>\n",
       "</table>\n",
       "</div>"
      ],
      "text/plain": [
       "                   A         B         C         D\n",
       "2023-01-01  0.367499  0.460834 -0.677562 -0.547760\n",
       "2023-01-02  0.142564  2.269747 -0.371492 -0.922889\n",
       "2023-01-03  0.818588  1.710490 -1.809343  0.658250\n",
       "2023-01-04  1.865549 -0.560709  0.153803 -2.473157\n",
       "2023-01-05 -0.237241  0.512410  1.851669  1.086962\n",
       "2023-01-06  0.500247  0.648036  0.326539  0.321646"
      ]
     },
     "execution_count": 16,
     "metadata": {},
     "output_type": "execute_result"
    }
   ],
   "source": [
    "df = pd.DataFrame(np.random.randn(6, 4), index=dates, columns=list(\"ABCD\"))\n",
    "df"
   ]
  },
  {
   "cell_type": "code",
   "execution_count": 18,
   "id": "b51ed398",
   "metadata": {},
   "outputs": [
    {
     "data": {
      "text/html": [
       "<div>\n",
       "<style scoped>\n",
       "    .dataframe tbody tr th:only-of-type {\n",
       "        vertical-align: middle;\n",
       "    }\n",
       "\n",
       "    .dataframe tbody tr th {\n",
       "        vertical-align: top;\n",
       "    }\n",
       "\n",
       "    .dataframe thead th {\n",
       "        text-align: right;\n",
       "    }\n",
       "</style>\n",
       "<table border=\"1\" class=\"dataframe\">\n",
       "  <thead>\n",
       "    <tr style=\"text-align: right;\">\n",
       "      <th></th>\n",
       "      <th>A</th>\n",
       "      <th>B</th>\n",
       "      <th>C</th>\n",
       "      <th>D</th>\n",
       "    </tr>\n",
       "  </thead>\n",
       "  <tbody>\n",
       "    <tr>\n",
       "      <th>2023-01-01</th>\n",
       "      <td>0.367499</td>\n",
       "      <td>0.460834</td>\n",
       "      <td>-0.677562</td>\n",
       "      <td>-0.547760</td>\n",
       "    </tr>\n",
       "    <tr>\n",
       "      <th>2023-01-02</th>\n",
       "      <td>0.142564</td>\n",
       "      <td>2.269747</td>\n",
       "      <td>-0.371492</td>\n",
       "      <td>-0.922889</td>\n",
       "    </tr>\n",
       "  </tbody>\n",
       "</table>\n",
       "</div>"
      ],
      "text/plain": [
       "                   A         B         C         D\n",
       "2023-01-01  0.367499  0.460834 -0.677562 -0.547760\n",
       "2023-01-02  0.142564  2.269747 -0.371492 -0.922889"
      ]
     },
     "execution_count": 18,
     "metadata": {},
     "output_type": "execute_result"
    }
   ],
   "source": [
    "df.head(2)"
   ]
  },
  {
   "cell_type": "code",
   "execution_count": 19,
   "id": "5c589f96",
   "metadata": {},
   "outputs": [
    {
     "data": {
      "text/html": [
       "<div>\n",
       "<style scoped>\n",
       "    .dataframe tbody tr th:only-of-type {\n",
       "        vertical-align: middle;\n",
       "    }\n",
       "\n",
       "    .dataframe tbody tr th {\n",
       "        vertical-align: top;\n",
       "    }\n",
       "\n",
       "    .dataframe thead th {\n",
       "        text-align: right;\n",
       "    }\n",
       "</style>\n",
       "<table border=\"1\" class=\"dataframe\">\n",
       "  <thead>\n",
       "    <tr style=\"text-align: right;\">\n",
       "      <th></th>\n",
       "      <th>A</th>\n",
       "      <th>B</th>\n",
       "      <th>C</th>\n",
       "      <th>D</th>\n",
       "    </tr>\n",
       "  </thead>\n",
       "  <tbody>\n",
       "    <tr>\n",
       "      <th>2023-01-05</th>\n",
       "      <td>-0.237241</td>\n",
       "      <td>0.512410</td>\n",
       "      <td>1.851669</td>\n",
       "      <td>1.086962</td>\n",
       "    </tr>\n",
       "    <tr>\n",
       "      <th>2023-01-01</th>\n",
       "      <td>0.367499</td>\n",
       "      <td>0.460834</td>\n",
       "      <td>-0.677562</td>\n",
       "      <td>-0.547760</td>\n",
       "    </tr>\n",
       "  </tbody>\n",
       "</table>\n",
       "</div>"
      ],
      "text/plain": [
       "                   A         B         C         D\n",
       "2023-01-05 -0.237241  0.512410  1.851669  1.086962\n",
       "2023-01-01  0.367499  0.460834 -0.677562 -0.547760"
      ]
     },
     "execution_count": 19,
     "metadata": {},
     "output_type": "execute_result"
    }
   ],
   "source": [
    "df.sample(2)"
   ]
  },
  {
   "cell_type": "code",
   "execution_count": 29,
   "id": "fe032d94",
   "metadata": {},
   "outputs": [
    {
     "data": {
      "text/html": [
       "<div>\n",
       "<style scoped>\n",
       "    .dataframe tbody tr th:only-of-type {\n",
       "        vertical-align: middle;\n",
       "    }\n",
       "\n",
       "    .dataframe tbody tr th {\n",
       "        vertical-align: top;\n",
       "    }\n",
       "\n",
       "    .dataframe thead th {\n",
       "        text-align: right;\n",
       "    }\n",
       "</style>\n",
       "<table border=\"1\" class=\"dataframe\">\n",
       "  <thead>\n",
       "    <tr style=\"text-align: right;\">\n",
       "      <th></th>\n",
       "      <th>A</th>\n",
       "      <th>B</th>\n",
       "      <th>C</th>\n",
       "      <th>D</th>\n",
       "      <th>E</th>\n",
       "      <th>F</th>\n",
       "    </tr>\n",
       "  </thead>\n",
       "  <tbody>\n",
       "    <tr>\n",
       "      <th>0</th>\n",
       "      <td>1.0</td>\n",
       "      <td>2023-01-02</td>\n",
       "      <td>1.0</td>\n",
       "      <td>3</td>\n",
       "      <td>test</td>\n",
       "      <td>foo</td>\n",
       "    </tr>\n",
       "    <tr>\n",
       "      <th>1</th>\n",
       "      <td>1.0</td>\n",
       "      <td>2023-01-03</td>\n",
       "      <td>1.0</td>\n",
       "      <td>3</td>\n",
       "      <td>train</td>\n",
       "      <td>foo</td>\n",
       "    </tr>\n",
       "    <tr>\n",
       "      <th>2</th>\n",
       "      <td>1.0</td>\n",
       "      <td>2023-01-04</td>\n",
       "      <td>1.0</td>\n",
       "      <td>3</td>\n",
       "      <td>test</td>\n",
       "      <td>foo</td>\n",
       "    </tr>\n",
       "    <tr>\n",
       "      <th>3</th>\n",
       "      <td>1.0</td>\n",
       "      <td>2023-01-05</td>\n",
       "      <td>1.0</td>\n",
       "      <td>3</td>\n",
       "      <td>train</td>\n",
       "      <td>foo</td>\n",
       "    </tr>\n",
       "  </tbody>\n",
       "</table>\n",
       "</div>"
      ],
      "text/plain": [
       "     A          B    C  D      E    F\n",
       "0  1.0 2023-01-02  1.0  3   test  foo\n",
       "1  1.0 2023-01-03  1.0  3  train  foo\n",
       "2  1.0 2023-01-04  1.0  3   test  foo\n",
       "3  1.0 2023-01-05  1.0  3  train  foo"
      ]
     },
     "execution_count": 29,
     "metadata": {},
     "output_type": "execute_result"
    }
   ],
   "source": [
    "df2 = pd.DataFrame(\n",
    "    {\n",
    "        \"A\": 1.0,\n",
    "        \"B\": pd.date_range(\"20230102\", periods=4),\n",
    "        \"C\": pd.Series(1, index=list(range(4)), dtype=\"float32\"),\n",
    "        \"D\": np.array([3] * 4, dtype=\"int32\"),\n",
    "        \"E\": pd.Categorical([\"test\", \"train\", \"test\", \"train\"]),\n",
    "        \"F\": \"foo\",\n",
    "    }\n",
    ")\n",
    "\n",
    "df2"
   ]
  },
  {
   "cell_type": "code",
   "execution_count": 31,
   "id": "9221bc90",
   "metadata": {},
   "outputs": [
    {
     "data": {
      "text/plain": [
       "A           float64\n",
       "B    datetime64[ns]\n",
       "C           float32\n",
       "D             int32\n",
       "E          category\n",
       "F            object\n",
       "dtype: object"
      ]
     },
     "execution_count": 31,
     "metadata": {},
     "output_type": "execute_result"
    }
   ],
   "source": [
    "df2.dtypes"
   ]
  },
  {
   "cell_type": "code",
   "execution_count": 34,
   "id": "0ff72636",
   "metadata": {},
   "outputs": [
    {
     "data": {
      "text/plain": [
       "<bound method NDFrame._add_numeric_operations.<locals>.all of      A          B    C  D      E    F\n",
       "0  1.0 2023-01-02  1.0  3   test  foo\n",
       "1  1.0 2023-01-03  1.0  3  train  foo\n",
       "2  1.0 2023-01-04  1.0  3   test  foo\n",
       "3  1.0 2023-01-05  1.0  3  train  foo>"
      ]
     },
     "execution_count": 34,
     "metadata": {},
     "output_type": "execute_result"
    }
   ],
   "source": [
    "df2.all"
   ]
  },
  {
   "cell_type": "code",
   "execution_count": 35,
   "id": "eda611d4",
   "metadata": {},
   "outputs": [
    {
     "data": {
      "text/plain": [
       "<bound method flex_arith_method_FRAME.<locals>.f of      A          B    C  D      E    F\n",
       "0  1.0 2023-01-02  1.0  3   test  foo\n",
       "1  1.0 2023-01-03  1.0  3  train  foo\n",
       "2  1.0 2023-01-04  1.0  3   test  foo\n",
       "3  1.0 2023-01-05  1.0  3  train  foo>"
      ]
     },
     "execution_count": 35,
     "metadata": {},
     "output_type": "execute_result"
    }
   ],
   "source": [
    "df2.add"
   ]
  },
  {
   "cell_type": "code",
   "execution_count": 36,
   "id": "64a0539e",
   "metadata": {},
   "outputs": [
    {
     "data": {
      "text/html": [
       "<div>\n",
       "<style scoped>\n",
       "    .dataframe tbody tr th:only-of-type {\n",
       "        vertical-align: middle;\n",
       "    }\n",
       "\n",
       "    .dataframe tbody tr th {\n",
       "        vertical-align: top;\n",
       "    }\n",
       "\n",
       "    .dataframe thead th {\n",
       "        text-align: right;\n",
       "    }\n",
       "</style>\n",
       "<table border=\"1\" class=\"dataframe\">\n",
       "  <thead>\n",
       "    <tr style=\"text-align: right;\">\n",
       "      <th></th>\n",
       "      <th>A</th>\n",
       "      <th>B</th>\n",
       "      <th>C</th>\n",
       "      <th>D</th>\n",
       "      <th>E</th>\n",
       "      <th>F</th>\n",
       "    </tr>\n",
       "  </thead>\n",
       "  <tbody>\n",
       "    <tr>\n",
       "      <th>0</th>\n",
       "      <td>1.0</td>\n",
       "      <td>2023-01-02</td>\n",
       "      <td>1.0</td>\n",
       "      <td>3</td>\n",
       "      <td>test</td>\n",
       "      <td>foo</td>\n",
       "    </tr>\n",
       "    <tr>\n",
       "      <th>1</th>\n",
       "      <td>1.0</td>\n",
       "      <td>2023-01-03</td>\n",
       "      <td>1.0</td>\n",
       "      <td>3</td>\n",
       "      <td>train</td>\n",
       "      <td>foo</td>\n",
       "    </tr>\n",
       "    <tr>\n",
       "      <th>2</th>\n",
       "      <td>1.0</td>\n",
       "      <td>2023-01-04</td>\n",
       "      <td>1.0</td>\n",
       "      <td>3</td>\n",
       "      <td>test</td>\n",
       "      <td>foo</td>\n",
       "    </tr>\n",
       "    <tr>\n",
       "      <th>3</th>\n",
       "      <td>1.0</td>\n",
       "      <td>2023-01-05</td>\n",
       "      <td>1.0</td>\n",
       "      <td>3</td>\n",
       "      <td>train</td>\n",
       "      <td>foo</td>\n",
       "    </tr>\n",
       "  </tbody>\n",
       "</table>\n",
       "</div>"
      ],
      "text/plain": [
       "     A          B    C  D      E    F\n",
       "0  1.0 2023-01-02  1.0  3   test  foo\n",
       "1  1.0 2023-01-03  1.0  3  train  foo\n",
       "2  1.0 2023-01-04  1.0  3   test  foo\n",
       "3  1.0 2023-01-05  1.0  3  train  foo"
      ]
     },
     "execution_count": 36,
     "metadata": {},
     "output_type": "execute_result"
    }
   ],
   "source": [
    "df2.tail()"
   ]
  },
  {
   "cell_type": "code",
   "execution_count": 39,
   "id": "a37727f3",
   "metadata": {},
   "outputs": [
    {
     "data": {
      "text/plain": [
       "DatetimeIndex(['2023-01-01', '2023-01-02', '2023-01-03', '2023-01-04',\n",
       "               '2023-01-05', '2023-01-06'],\n",
       "              dtype='datetime64[ns]', freq='D')"
      ]
     },
     "execution_count": 39,
     "metadata": {},
     "output_type": "execute_result"
    }
   ],
   "source": [
    "df.index"
   ]
  },
  {
   "cell_type": "code",
   "execution_count": 40,
   "id": "49a93c92",
   "metadata": {},
   "outputs": [
    {
     "data": {
      "text/plain": [
       "Index(['A', 'B', 'C', 'D'], dtype='object')"
      ]
     },
     "execution_count": 40,
     "metadata": {},
     "output_type": "execute_result"
    }
   ],
   "source": [
    "df.columns"
   ]
  },
  {
   "cell_type": "code",
   "execution_count": 43,
   "id": "492fdc72",
   "metadata": {},
   "outputs": [
    {
     "data": {
      "text/plain": [
       "array([[ 0.36749944,  0.46083419, -0.677562  , -0.54776041],\n",
       "       [ 0.14256391,  2.26974679, -0.37149207, -0.92288883],\n",
       "       [ 0.81858767,  1.71048986, -1.8093431 ,  0.65825007],\n",
       "       [ 1.86554859, -0.56070923,  0.1538027 , -2.47315682],\n",
       "       [-0.23724078,  0.51240966,  1.85166926,  1.08696248],\n",
       "       [ 0.50024713,  0.6480363 ,  0.32653865,  0.32164587]])"
      ]
     },
     "execution_count": 43,
     "metadata": {},
     "output_type": "execute_result"
    }
   ],
   "source": [
    "a= df.to_numpy()\n",
    "a"
   ]
  },
  {
   "cell_type": "code",
   "execution_count": 42,
   "id": "846030d6",
   "metadata": {},
   "outputs": [
    {
     "data": {
      "text/html": [
       "<div>\n",
       "<style scoped>\n",
       "    .dataframe tbody tr th:only-of-type {\n",
       "        vertical-align: middle;\n",
       "    }\n",
       "\n",
       "    .dataframe tbody tr th {\n",
       "        vertical-align: top;\n",
       "    }\n",
       "\n",
       "    .dataframe thead th {\n",
       "        text-align: right;\n",
       "    }\n",
       "</style>\n",
       "<table border=\"1\" class=\"dataframe\">\n",
       "  <thead>\n",
       "    <tr style=\"text-align: right;\">\n",
       "      <th></th>\n",
       "      <th>A</th>\n",
       "      <th>B</th>\n",
       "      <th>C</th>\n",
       "      <th>D</th>\n",
       "    </tr>\n",
       "  </thead>\n",
       "  <tbody>\n",
       "    <tr>\n",
       "      <th>2023-01-01</th>\n",
       "      <td>0.367499</td>\n",
       "      <td>0.460834</td>\n",
       "      <td>-0.677562</td>\n",
       "      <td>-0.547760</td>\n",
       "    </tr>\n",
       "    <tr>\n",
       "      <th>2023-01-02</th>\n",
       "      <td>0.142564</td>\n",
       "      <td>2.269747</td>\n",
       "      <td>-0.371492</td>\n",
       "      <td>-0.922889</td>\n",
       "    </tr>\n",
       "    <tr>\n",
       "      <th>2023-01-03</th>\n",
       "      <td>0.818588</td>\n",
       "      <td>1.710490</td>\n",
       "      <td>-1.809343</td>\n",
       "      <td>0.658250</td>\n",
       "    </tr>\n",
       "    <tr>\n",
       "      <th>2023-01-04</th>\n",
       "      <td>1.865549</td>\n",
       "      <td>-0.560709</td>\n",
       "      <td>0.153803</td>\n",
       "      <td>-2.473157</td>\n",
       "    </tr>\n",
       "    <tr>\n",
       "      <th>2023-01-05</th>\n",
       "      <td>-0.237241</td>\n",
       "      <td>0.512410</td>\n",
       "      <td>1.851669</td>\n",
       "      <td>1.086962</td>\n",
       "    </tr>\n",
       "    <tr>\n",
       "      <th>2023-01-06</th>\n",
       "      <td>0.500247</td>\n",
       "      <td>0.648036</td>\n",
       "      <td>0.326539</td>\n",
       "      <td>0.321646</td>\n",
       "    </tr>\n",
       "  </tbody>\n",
       "</table>\n",
       "</div>"
      ],
      "text/plain": [
       "                   A         B         C         D\n",
       "2023-01-01  0.367499  0.460834 -0.677562 -0.547760\n",
       "2023-01-02  0.142564  2.269747 -0.371492 -0.922889\n",
       "2023-01-03  0.818588  1.710490 -1.809343  0.658250\n",
       "2023-01-04  1.865549 -0.560709  0.153803 -2.473157\n",
       "2023-01-05 -0.237241  0.512410  1.851669  1.086962\n",
       "2023-01-06  0.500247  0.648036  0.326539  0.321646"
      ]
     },
     "execution_count": 42,
     "metadata": {},
     "output_type": "execute_result"
    }
   ],
   "source": [
    "df"
   ]
  },
  {
   "cell_type": "code",
   "execution_count": 44,
   "id": "d32998a7",
   "metadata": {},
   "outputs": [
    {
     "data": {
      "text/plain": [
       "array([[ 0.36749944,  0.46083419, -0.677562  , -0.54776041],\n",
       "       [ 0.14256391,  2.26974679, -0.37149207, -0.92288883],\n",
       "       [ 0.81858767,  1.71048986, -1.8093431 ,  0.65825007],\n",
       "       [ 1.86554859, -0.56070923,  0.1538027 , -2.47315682],\n",
       "       [-0.23724078,  0.51240966,  1.85166926,  1.08696248],\n",
       "       [ 0.50024713,  0.6480363 ,  0.32653865,  0.32164587]])"
      ]
     },
     "execution_count": 44,
     "metadata": {},
     "output_type": "execute_result"
    }
   ],
   "source": [
    "a # Once you convert it to a numpy array,you can perform all functionalities of it"
   ]
  },
  {
   "cell_type": "code",
   "execution_count": 45,
   "id": "3eafc458",
   "metadata": {},
   "outputs": [
    {
     "data": {
      "text/plain": [
       "0.2539449728041385"
      ]
     },
     "execution_count": 45,
     "metadata": {},
     "output_type": "execute_result"
    }
   ],
   "source": [
    "a.mean()"
   ]
  },
  {
   "cell_type": "code",
   "execution_count": 46,
   "id": "f1f8dd6d",
   "metadata": {},
   "outputs": [
    {
     "data": {
      "text/plain": [
       "2.2697467905836675"
      ]
     },
     "execution_count": 46,
     "metadata": {},
     "output_type": "execute_result"
    }
   ],
   "source": [
    "a.max()"
   ]
  },
  {
   "cell_type": "code",
   "execution_count": 50,
   "id": "a5c5e442",
   "metadata": {},
   "outputs": [
    {
     "data": {
      "text/plain": [
       "array([[ 1.        ,  0.78711302,  0.77470136,  0.49072014, -0.87333581,\n",
       "         0.94054623],\n",
       "       [ 0.78711302,  1.        ,  0.58207488,  0.19965267, -0.39405355,\n",
       "         0.94884015],\n",
       "       [ 0.77470136,  0.58207488,  1.        , -0.12162881, -0.76432616,\n",
       "         0.73420686],\n",
       "       [ 0.49072014,  0.19965267, -0.12162881,  1.        , -0.48643764,\n",
       "         0.33239177],\n",
       "       [-0.87333581, -0.39405355, -0.76432616, -0.48643764,  1.        ,\n",
       "        -0.66408625],\n",
       "       [ 0.94054623,  0.94884015,  0.73420686,  0.33239177, -0.66408625,\n",
       "         1.        ]])"
      ]
     },
     "execution_count": 50,
     "metadata": {},
     "output_type": "execute_result"
    }
   ],
   "source": [
    "np.corrcoef(a)"
   ]
  },
  {
   "cell_type": "code",
   "execution_count": 51,
   "id": "5ed1343c",
   "metadata": {},
   "outputs": [
    {
     "data": {
      "text/plain": [
       "array([[ 0.35571857,  0.65551712,  0.6970742 ,  0.52566429, -0.46070167,\n",
       "         0.08777906],\n",
       "       [ 0.65551712,  1.94978778,  1.22620747,  0.50071444, -0.48666955,\n",
       "         0.20732144],\n",
       "       [ 0.6970742 ,  1.22620747,  2.27605554, -0.32957117, -1.01989486,\n",
       "         0.17332746],\n",
       "       [ 0.52566429,  0.50071444, -0.32957117,  3.22583875, -0.77274064,\n",
       "         0.09341768],\n",
       "       [-0.46070167, -0.48666955, -1.01989486, -0.77274064,  0.78229491,\n",
       "        -0.09191095],\n",
       "       [ 0.08777906,  0.20732144,  0.17332746,  0.09341768, -0.09191095,\n",
       "         0.02448584]])"
      ]
     },
     "execution_count": 51,
     "metadata": {},
     "output_type": "execute_result"
    }
   ],
   "source": [
    "np.cov(a)"
   ]
  },
  {
   "cell_type": "code",
   "execution_count": 53,
   "id": "33f5f079",
   "metadata": {},
   "outputs": [
    {
     "data": {
      "text/plain": [
       "array([[1.0, Timestamp('2023-01-02 00:00:00'), 1.0, 3, 'test', 'foo'],\n",
       "       [1.0, Timestamp('2023-01-03 00:00:00'), 1.0, 3, 'train', 'foo'],\n",
       "       [1.0, Timestamp('2023-01-04 00:00:00'), 1.0, 3, 'test', 'foo'],\n",
       "       [1.0, Timestamp('2023-01-05 00:00:00'), 1.0, 3, 'train', 'foo']],\n",
       "      dtype=object)"
      ]
     },
     "execution_count": 53,
     "metadata": {},
     "output_type": "execute_result"
    }
   ],
   "source": [
    "b=df2.to_numpy()\n",
    "b"
   ]
  },
  {
   "cell_type": "code",
   "execution_count": 55,
   "id": "8107b37e",
   "metadata": {},
   "outputs": [
    {
     "data": {
      "text/html": [
       "<div>\n",
       "<style scoped>\n",
       "    .dataframe tbody tr th:only-of-type {\n",
       "        vertical-align: middle;\n",
       "    }\n",
       "\n",
       "    .dataframe tbody tr th {\n",
       "        vertical-align: top;\n",
       "    }\n",
       "\n",
       "    .dataframe thead th {\n",
       "        text-align: right;\n",
       "    }\n",
       "</style>\n",
       "<table border=\"1\" class=\"dataframe\">\n",
       "  <thead>\n",
       "    <tr style=\"text-align: right;\">\n",
       "      <th></th>\n",
       "      <th>A</th>\n",
       "      <th>B</th>\n",
       "      <th>C</th>\n",
       "      <th>D</th>\n",
       "    </tr>\n",
       "  </thead>\n",
       "  <tbody>\n",
       "    <tr>\n",
       "      <th>count</th>\n",
       "      <td>6.000000</td>\n",
       "      <td>6.000000</td>\n",
       "      <td>6.000000</td>\n",
       "      <td>6.000000</td>\n",
       "    </tr>\n",
       "    <tr>\n",
       "      <th>mean</th>\n",
       "      <td>0.576201</td>\n",
       "      <td>0.840135</td>\n",
       "      <td>-0.087731</td>\n",
       "      <td>-0.312825</td>\n",
       "    </tr>\n",
       "    <tr>\n",
       "      <th>std</th>\n",
       "      <td>0.723909</td>\n",
       "      <td>1.005171</td>\n",
       "      <td>1.215204</td>\n",
       "      <td>1.296098</td>\n",
       "    </tr>\n",
       "    <tr>\n",
       "      <th>min</th>\n",
       "      <td>-0.237241</td>\n",
       "      <td>-0.560709</td>\n",
       "      <td>-1.809343</td>\n",
       "      <td>-2.473157</td>\n",
       "    </tr>\n",
       "    <tr>\n",
       "      <th>25%</th>\n",
       "      <td>0.198798</td>\n",
       "      <td>0.473728</td>\n",
       "      <td>-0.601045</td>\n",
       "      <td>-0.829107</td>\n",
       "    </tr>\n",
       "    <tr>\n",
       "      <th>50%</th>\n",
       "      <td>0.433873</td>\n",
       "      <td>0.580223</td>\n",
       "      <td>-0.108845</td>\n",
       "      <td>-0.113057</td>\n",
       "    </tr>\n",
       "    <tr>\n",
       "      <th>75%</th>\n",
       "      <td>0.739003</td>\n",
       "      <td>1.444876</td>\n",
       "      <td>0.283355</td>\n",
       "      <td>0.574099</td>\n",
       "    </tr>\n",
       "    <tr>\n",
       "      <th>max</th>\n",
       "      <td>1.865549</td>\n",
       "      <td>2.269747</td>\n",
       "      <td>1.851669</td>\n",
       "      <td>1.086962</td>\n",
       "    </tr>\n",
       "  </tbody>\n",
       "</table>\n",
       "</div>"
      ],
      "text/plain": [
       "              A         B         C         D\n",
       "count  6.000000  6.000000  6.000000  6.000000\n",
       "mean   0.576201  0.840135 -0.087731 -0.312825\n",
       "std    0.723909  1.005171  1.215204  1.296098\n",
       "min   -0.237241 -0.560709 -1.809343 -2.473157\n",
       "25%    0.198798  0.473728 -0.601045 -0.829107\n",
       "50%    0.433873  0.580223 -0.108845 -0.113057\n",
       "75%    0.739003  1.444876  0.283355  0.574099\n",
       "max    1.865549  2.269747  1.851669  1.086962"
      ]
     },
     "execution_count": 55,
     "metadata": {},
     "output_type": "execute_result"
    }
   ],
   "source": [
    "df.describe()"
   ]
  },
  {
   "cell_type": "code",
   "execution_count": 56,
   "id": "f83daca6",
   "metadata": {},
   "outputs": [
    {
     "data": {
      "text/html": [
       "<div>\n",
       "<style scoped>\n",
       "    .dataframe tbody tr th:only-of-type {\n",
       "        vertical-align: middle;\n",
       "    }\n",
       "\n",
       "    .dataframe tbody tr th {\n",
       "        vertical-align: top;\n",
       "    }\n",
       "\n",
       "    .dataframe thead th {\n",
       "        text-align: right;\n",
       "    }\n",
       "</style>\n",
       "<table border=\"1\" class=\"dataframe\">\n",
       "  <thead>\n",
       "    <tr style=\"text-align: right;\">\n",
       "      <th></th>\n",
       "      <th>A</th>\n",
       "      <th>B</th>\n",
       "      <th>C</th>\n",
       "      <th>D</th>\n",
       "    </tr>\n",
       "  </thead>\n",
       "  <tbody>\n",
       "    <tr>\n",
       "      <th>2023-01-01</th>\n",
       "      <td>0.367499</td>\n",
       "      <td>0.460834</td>\n",
       "      <td>-0.677562</td>\n",
       "      <td>-0.547760</td>\n",
       "    </tr>\n",
       "    <tr>\n",
       "      <th>2023-01-02</th>\n",
       "      <td>0.142564</td>\n",
       "      <td>2.269747</td>\n",
       "      <td>-0.371492</td>\n",
       "      <td>-0.922889</td>\n",
       "    </tr>\n",
       "    <tr>\n",
       "      <th>2023-01-03</th>\n",
       "      <td>0.818588</td>\n",
       "      <td>1.710490</td>\n",
       "      <td>-1.809343</td>\n",
       "      <td>0.658250</td>\n",
       "    </tr>\n",
       "    <tr>\n",
       "      <th>2023-01-04</th>\n",
       "      <td>1.865549</td>\n",
       "      <td>-0.560709</td>\n",
       "      <td>0.153803</td>\n",
       "      <td>-2.473157</td>\n",
       "    </tr>\n",
       "    <tr>\n",
       "      <th>2023-01-05</th>\n",
       "      <td>-0.237241</td>\n",
       "      <td>0.512410</td>\n",
       "      <td>1.851669</td>\n",
       "      <td>1.086962</td>\n",
       "    </tr>\n",
       "    <tr>\n",
       "      <th>2023-01-06</th>\n",
       "      <td>0.500247</td>\n",
       "      <td>0.648036</td>\n",
       "      <td>0.326539</td>\n",
       "      <td>0.321646</td>\n",
       "    </tr>\n",
       "  </tbody>\n",
       "</table>\n",
       "</div>"
      ],
      "text/plain": [
       "                   A         B         C         D\n",
       "2023-01-01  0.367499  0.460834 -0.677562 -0.547760\n",
       "2023-01-02  0.142564  2.269747 -0.371492 -0.922889\n",
       "2023-01-03  0.818588  1.710490 -1.809343  0.658250\n",
       "2023-01-04  1.865549 -0.560709  0.153803 -2.473157\n",
       "2023-01-05 -0.237241  0.512410  1.851669  1.086962\n",
       "2023-01-06  0.500247  0.648036  0.326539  0.321646"
      ]
     },
     "execution_count": 56,
     "metadata": {},
     "output_type": "execute_result"
    }
   ],
   "source": [
    "df"
   ]
  },
  {
   "cell_type": "code",
   "execution_count": 57,
   "id": "c59ab4fa",
   "metadata": {},
   "outputs": [
    {
     "data": {
      "text/html": [
       "<div>\n",
       "<style scoped>\n",
       "    .dataframe tbody tr th:only-of-type {\n",
       "        vertical-align: middle;\n",
       "    }\n",
       "\n",
       "    .dataframe tbody tr th {\n",
       "        vertical-align: top;\n",
       "    }\n",
       "\n",
       "    .dataframe thead th {\n",
       "        text-align: right;\n",
       "    }\n",
       "</style>\n",
       "<table border=\"1\" class=\"dataframe\">\n",
       "  <thead>\n",
       "    <tr style=\"text-align: right;\">\n",
       "      <th></th>\n",
       "      <th>2023-01-01</th>\n",
       "      <th>2023-01-02</th>\n",
       "      <th>2023-01-03</th>\n",
       "      <th>2023-01-04</th>\n",
       "      <th>2023-01-05</th>\n",
       "      <th>2023-01-06</th>\n",
       "    </tr>\n",
       "  </thead>\n",
       "  <tbody>\n",
       "    <tr>\n",
       "      <th>A</th>\n",
       "      <td>0.367499</td>\n",
       "      <td>0.142564</td>\n",
       "      <td>0.818588</td>\n",
       "      <td>1.865549</td>\n",
       "      <td>-0.237241</td>\n",
       "      <td>0.500247</td>\n",
       "    </tr>\n",
       "    <tr>\n",
       "      <th>B</th>\n",
       "      <td>0.460834</td>\n",
       "      <td>2.269747</td>\n",
       "      <td>1.710490</td>\n",
       "      <td>-0.560709</td>\n",
       "      <td>0.512410</td>\n",
       "      <td>0.648036</td>\n",
       "    </tr>\n",
       "    <tr>\n",
       "      <th>C</th>\n",
       "      <td>-0.677562</td>\n",
       "      <td>-0.371492</td>\n",
       "      <td>-1.809343</td>\n",
       "      <td>0.153803</td>\n",
       "      <td>1.851669</td>\n",
       "      <td>0.326539</td>\n",
       "    </tr>\n",
       "    <tr>\n",
       "      <th>D</th>\n",
       "      <td>-0.547760</td>\n",
       "      <td>-0.922889</td>\n",
       "      <td>0.658250</td>\n",
       "      <td>-2.473157</td>\n",
       "      <td>1.086962</td>\n",
       "      <td>0.321646</td>\n",
       "    </tr>\n",
       "  </tbody>\n",
       "</table>\n",
       "</div>"
      ],
      "text/plain": [
       "   2023-01-01  2023-01-02  2023-01-03  2023-01-04  2023-01-05  2023-01-06\n",
       "A    0.367499    0.142564    0.818588    1.865549   -0.237241    0.500247\n",
       "B    0.460834    2.269747    1.710490   -0.560709    0.512410    0.648036\n",
       "C   -0.677562   -0.371492   -1.809343    0.153803    1.851669    0.326539\n",
       "D   -0.547760   -0.922889    0.658250   -2.473157    1.086962    0.321646"
      ]
     },
     "execution_count": 57,
     "metadata": {},
     "output_type": "execute_result"
    }
   ],
   "source": [
    "df.T"
   ]
  },
  {
   "cell_type": "code",
   "execution_count": 58,
   "id": "3bced8f1",
   "metadata": {},
   "outputs": [
    {
     "data": {
      "text/html": [
       "<div>\n",
       "<style scoped>\n",
       "    .dataframe tbody tr th:only-of-type {\n",
       "        vertical-align: middle;\n",
       "    }\n",
       "\n",
       "    .dataframe tbody tr th {\n",
       "        vertical-align: top;\n",
       "    }\n",
       "\n",
       "    .dataframe thead th {\n",
       "        text-align: right;\n",
       "    }\n",
       "</style>\n",
       "<table border=\"1\" class=\"dataframe\">\n",
       "  <thead>\n",
       "    <tr style=\"text-align: right;\">\n",
       "      <th></th>\n",
       "      <th>A</th>\n",
       "      <th>B</th>\n",
       "      <th>C</th>\n",
       "      <th>D</th>\n",
       "    </tr>\n",
       "  </thead>\n",
       "  <tbody>\n",
       "    <tr>\n",
       "      <th>2023-01-01</th>\n",
       "      <td>0.367499</td>\n",
       "      <td>0.460834</td>\n",
       "      <td>-0.677562</td>\n",
       "      <td>-0.547760</td>\n",
       "    </tr>\n",
       "    <tr>\n",
       "      <th>2023-01-02</th>\n",
       "      <td>0.142564</td>\n",
       "      <td>2.269747</td>\n",
       "      <td>-0.371492</td>\n",
       "      <td>-0.922889</td>\n",
       "    </tr>\n",
       "    <tr>\n",
       "      <th>2023-01-03</th>\n",
       "      <td>0.818588</td>\n",
       "      <td>1.710490</td>\n",
       "      <td>-1.809343</td>\n",
       "      <td>0.658250</td>\n",
       "    </tr>\n",
       "    <tr>\n",
       "      <th>2023-01-04</th>\n",
       "      <td>1.865549</td>\n",
       "      <td>-0.560709</td>\n",
       "      <td>0.153803</td>\n",
       "      <td>-2.473157</td>\n",
       "    </tr>\n",
       "    <tr>\n",
       "      <th>2023-01-05</th>\n",
       "      <td>-0.237241</td>\n",
       "      <td>0.512410</td>\n",
       "      <td>1.851669</td>\n",
       "      <td>1.086962</td>\n",
       "    </tr>\n",
       "    <tr>\n",
       "      <th>2023-01-06</th>\n",
       "      <td>0.500247</td>\n",
       "      <td>0.648036</td>\n",
       "      <td>0.326539</td>\n",
       "      <td>0.321646</td>\n",
       "    </tr>\n",
       "  </tbody>\n",
       "</table>\n",
       "</div>"
      ],
      "text/plain": [
       "                   A         B         C         D\n",
       "2023-01-01  0.367499  0.460834 -0.677562 -0.547760\n",
       "2023-01-02  0.142564  2.269747 -0.371492 -0.922889\n",
       "2023-01-03  0.818588  1.710490 -1.809343  0.658250\n",
       "2023-01-04  1.865549 -0.560709  0.153803 -2.473157\n",
       "2023-01-05 -0.237241  0.512410  1.851669  1.086962\n",
       "2023-01-06  0.500247  0.648036  0.326539  0.321646"
      ]
     },
     "execution_count": 58,
     "metadata": {},
     "output_type": "execute_result"
    }
   ],
   "source": [
    "df.sort_index()"
   ]
  },
  {
   "cell_type": "code",
   "execution_count": 59,
   "id": "1a591bed",
   "metadata": {},
   "outputs": [
    {
     "data": {
      "text/html": [
       "<div>\n",
       "<style scoped>\n",
       "    .dataframe tbody tr th:only-of-type {\n",
       "        vertical-align: middle;\n",
       "    }\n",
       "\n",
       "    .dataframe tbody tr th {\n",
       "        vertical-align: top;\n",
       "    }\n",
       "\n",
       "    .dataframe thead th {\n",
       "        text-align: right;\n",
       "    }\n",
       "</style>\n",
       "<table border=\"1\" class=\"dataframe\">\n",
       "  <thead>\n",
       "    <tr style=\"text-align: right;\">\n",
       "      <th></th>\n",
       "      <th>A</th>\n",
       "      <th>B</th>\n",
       "      <th>C</th>\n",
       "      <th>D</th>\n",
       "    </tr>\n",
       "  </thead>\n",
       "  <tbody>\n",
       "    <tr>\n",
       "      <th>2023-01-04</th>\n",
       "      <td>1.865549</td>\n",
       "      <td>-0.560709</td>\n",
       "      <td>0.153803</td>\n",
       "      <td>-2.473157</td>\n",
       "    </tr>\n",
       "    <tr>\n",
       "      <th>2023-01-01</th>\n",
       "      <td>0.367499</td>\n",
       "      <td>0.460834</td>\n",
       "      <td>-0.677562</td>\n",
       "      <td>-0.547760</td>\n",
       "    </tr>\n",
       "    <tr>\n",
       "      <th>2023-01-05</th>\n",
       "      <td>-0.237241</td>\n",
       "      <td>0.512410</td>\n",
       "      <td>1.851669</td>\n",
       "      <td>1.086962</td>\n",
       "    </tr>\n",
       "    <tr>\n",
       "      <th>2023-01-06</th>\n",
       "      <td>0.500247</td>\n",
       "      <td>0.648036</td>\n",
       "      <td>0.326539</td>\n",
       "      <td>0.321646</td>\n",
       "    </tr>\n",
       "    <tr>\n",
       "      <th>2023-01-03</th>\n",
       "      <td>0.818588</td>\n",
       "      <td>1.710490</td>\n",
       "      <td>-1.809343</td>\n",
       "      <td>0.658250</td>\n",
       "    </tr>\n",
       "    <tr>\n",
       "      <th>2023-01-02</th>\n",
       "      <td>0.142564</td>\n",
       "      <td>2.269747</td>\n",
       "      <td>-0.371492</td>\n",
       "      <td>-0.922889</td>\n",
       "    </tr>\n",
       "  </tbody>\n",
       "</table>\n",
       "</div>"
      ],
      "text/plain": [
       "                   A         B         C         D\n",
       "2023-01-04  1.865549 -0.560709  0.153803 -2.473157\n",
       "2023-01-01  0.367499  0.460834 -0.677562 -0.547760\n",
       "2023-01-05 -0.237241  0.512410  1.851669  1.086962\n",
       "2023-01-06  0.500247  0.648036  0.326539  0.321646\n",
       "2023-01-03  0.818588  1.710490 -1.809343  0.658250\n",
       "2023-01-02  0.142564  2.269747 -0.371492 -0.922889"
      ]
     },
     "execution_count": 59,
     "metadata": {},
     "output_type": "execute_result"
    }
   ],
   "source": [
    "df.sort_values(by=\"B\")"
   ]
  },
  {
   "cell_type": "code",
   "execution_count": 61,
   "id": "b567f448",
   "metadata": {},
   "outputs": [
    {
     "data": {
      "text/plain": [
       "2023-01-01    0.367499\n",
       "2023-01-02    0.142564\n",
       "2023-01-03    0.818588\n",
       "2023-01-04    1.865549\n",
       "2023-01-05   -0.237241\n",
       "2023-01-06    0.500247\n",
       "Freq: D, Name: A, dtype: float64"
      ]
     },
     "execution_count": 61,
     "metadata": {},
     "output_type": "execute_result"
    }
   ],
   "source": [
    "df[\"A\"]"
   ]
  },
  {
   "cell_type": "code",
   "execution_count": 62,
   "id": "d93f8ce2",
   "metadata": {},
   "outputs": [
    {
     "data": {
      "text/html": [
       "<div>\n",
       "<style scoped>\n",
       "    .dataframe tbody tr th:only-of-type {\n",
       "        vertical-align: middle;\n",
       "    }\n",
       "\n",
       "    .dataframe tbody tr th {\n",
       "        vertical-align: top;\n",
       "    }\n",
       "\n",
       "    .dataframe thead th {\n",
       "        text-align: right;\n",
       "    }\n",
       "</style>\n",
       "<table border=\"1\" class=\"dataframe\">\n",
       "  <thead>\n",
       "    <tr style=\"text-align: right;\">\n",
       "      <th></th>\n",
       "      <th>A</th>\n",
       "      <th>B</th>\n",
       "      <th>C</th>\n",
       "      <th>D</th>\n",
       "    </tr>\n",
       "  </thead>\n",
       "  <tbody>\n",
       "    <tr>\n",
       "      <th>2023-01-01</th>\n",
       "      <td>0.367499</td>\n",
       "      <td>0.460834</td>\n",
       "      <td>-0.677562</td>\n",
       "      <td>-0.547760</td>\n",
       "    </tr>\n",
       "    <tr>\n",
       "      <th>2023-01-02</th>\n",
       "      <td>0.142564</td>\n",
       "      <td>2.269747</td>\n",
       "      <td>-0.371492</td>\n",
       "      <td>-0.922889</td>\n",
       "    </tr>\n",
       "    <tr>\n",
       "      <th>2023-01-03</th>\n",
       "      <td>0.818588</td>\n",
       "      <td>1.710490</td>\n",
       "      <td>-1.809343</td>\n",
       "      <td>0.658250</td>\n",
       "    </tr>\n",
       "  </tbody>\n",
       "</table>\n",
       "</div>"
      ],
      "text/plain": [
       "                   A         B         C         D\n",
       "2023-01-01  0.367499  0.460834 -0.677562 -0.547760\n",
       "2023-01-02  0.142564  2.269747 -0.371492 -0.922889\n",
       "2023-01-03  0.818588  1.710490 -1.809343  0.658250"
      ]
     },
     "execution_count": 62,
     "metadata": {},
     "output_type": "execute_result"
    }
   ],
   "source": [
    "df[0:3]"
   ]
  },
  {
   "cell_type": "code",
   "execution_count": 65,
   "id": "77b02d36",
   "metadata": {},
   "outputs": [
    {
     "data": {
      "text/html": [
       "<div>\n",
       "<style scoped>\n",
       "    .dataframe tbody tr th:only-of-type {\n",
       "        vertical-align: middle;\n",
       "    }\n",
       "\n",
       "    .dataframe tbody tr th {\n",
       "        vertical-align: top;\n",
       "    }\n",
       "\n",
       "    .dataframe thead th {\n",
       "        text-align: right;\n",
       "    }\n",
       "</style>\n",
       "<table border=\"1\" class=\"dataframe\">\n",
       "  <thead>\n",
       "    <tr style=\"text-align: right;\">\n",
       "      <th></th>\n",
       "      <th>A</th>\n",
       "      <th>B</th>\n",
       "      <th>C</th>\n",
       "      <th>D</th>\n",
       "    </tr>\n",
       "  </thead>\n",
       "  <tbody>\n",
       "    <tr>\n",
       "      <th>2023-01-01</th>\n",
       "      <td>0.367499</td>\n",
       "      <td>0.460834</td>\n",
       "      <td>-0.677562</td>\n",
       "      <td>-0.547760</td>\n",
       "    </tr>\n",
       "    <tr>\n",
       "      <th>2023-01-02</th>\n",
       "      <td>0.142564</td>\n",
       "      <td>2.269747</td>\n",
       "      <td>-0.371492</td>\n",
       "      <td>-0.922889</td>\n",
       "    </tr>\n",
       "    <tr>\n",
       "      <th>2023-01-03</th>\n",
       "      <td>0.818588</td>\n",
       "      <td>1.710490</td>\n",
       "      <td>-1.809343</td>\n",
       "      <td>0.658250</td>\n",
       "    </tr>\n",
       "  </tbody>\n",
       "</table>\n",
       "</div>"
      ],
      "text/plain": [
       "                   A         B         C         D\n",
       "2023-01-01  0.367499  0.460834 -0.677562 -0.547760\n",
       "2023-01-02  0.142564  2.269747 -0.371492 -0.922889\n",
       "2023-01-03  0.818588  1.710490 -1.809343  0.658250"
      ]
     },
     "execution_count": 65,
     "metadata": {},
     "output_type": "execute_result"
    }
   ],
   "source": [
    "df[\"20230101\":\"20230103\"]"
   ]
  },
  {
   "cell_type": "code",
   "execution_count": 67,
   "id": "2e8e7be8",
   "metadata": {},
   "outputs": [
    {
     "data": {
      "text/plain": [
       "A    0.142564\n",
       "B    2.269747\n",
       "C   -0.371492\n",
       "D   -0.922889\n",
       "Name: 2023-01-02 00:00:00, dtype: float64"
      ]
     },
     "execution_count": 67,
     "metadata": {},
     "output_type": "execute_result"
    }
   ],
   "source": [
    "df.loc[dates[1]]"
   ]
  },
  {
   "cell_type": "code",
   "execution_count": 68,
   "id": "9f5ceefb",
   "metadata": {},
   "outputs": [
    {
     "data": {
      "text/html": [
       "<div>\n",
       "<style scoped>\n",
       "    .dataframe tbody tr th:only-of-type {\n",
       "        vertical-align: middle;\n",
       "    }\n",
       "\n",
       "    .dataframe tbody tr th {\n",
       "        vertical-align: top;\n",
       "    }\n",
       "\n",
       "    .dataframe thead th {\n",
       "        text-align: right;\n",
       "    }\n",
       "</style>\n",
       "<table border=\"1\" class=\"dataframe\">\n",
       "  <thead>\n",
       "    <tr style=\"text-align: right;\">\n",
       "      <th></th>\n",
       "      <th>A</th>\n",
       "      <th>B</th>\n",
       "    </tr>\n",
       "  </thead>\n",
       "  <tbody>\n",
       "    <tr>\n",
       "      <th>2023-01-01</th>\n",
       "      <td>0.367499</td>\n",
       "      <td>0.460834</td>\n",
       "    </tr>\n",
       "    <tr>\n",
       "      <th>2023-01-02</th>\n",
       "      <td>0.142564</td>\n",
       "      <td>2.269747</td>\n",
       "    </tr>\n",
       "    <tr>\n",
       "      <th>2023-01-03</th>\n",
       "      <td>0.818588</td>\n",
       "      <td>1.710490</td>\n",
       "    </tr>\n",
       "    <tr>\n",
       "      <th>2023-01-04</th>\n",
       "      <td>1.865549</td>\n",
       "      <td>-0.560709</td>\n",
       "    </tr>\n",
       "    <tr>\n",
       "      <th>2023-01-05</th>\n",
       "      <td>-0.237241</td>\n",
       "      <td>0.512410</td>\n",
       "    </tr>\n",
       "    <tr>\n",
       "      <th>2023-01-06</th>\n",
       "      <td>0.500247</td>\n",
       "      <td>0.648036</td>\n",
       "    </tr>\n",
       "  </tbody>\n",
       "</table>\n",
       "</div>"
      ],
      "text/plain": [
       "                   A         B\n",
       "2023-01-01  0.367499  0.460834\n",
       "2023-01-02  0.142564  2.269747\n",
       "2023-01-03  0.818588  1.710490\n",
       "2023-01-04  1.865549 -0.560709\n",
       "2023-01-05 -0.237241  0.512410\n",
       "2023-01-06  0.500247  0.648036"
      ]
     },
     "execution_count": 68,
     "metadata": {},
     "output_type": "execute_result"
    }
   ],
   "source": [
    "df.loc[:,[\"A\",\"B\"]]"
   ]
  },
  {
   "cell_type": "code",
   "execution_count": 80,
   "id": "5587a7b0",
   "metadata": {},
   "outputs": [
    {
     "data": {
      "text/html": [
       "<div>\n",
       "<style scoped>\n",
       "    .dataframe tbody tr th:only-of-type {\n",
       "        vertical-align: middle;\n",
       "    }\n",
       "\n",
       "    .dataframe tbody tr th {\n",
       "        vertical-align: top;\n",
       "    }\n",
       "\n",
       "    .dataframe thead th {\n",
       "        text-align: right;\n",
       "    }\n",
       "</style>\n",
       "<table border=\"1\" class=\"dataframe\">\n",
       "  <thead>\n",
       "    <tr style=\"text-align: right;\">\n",
       "      <th></th>\n",
       "      <th>A</th>\n",
       "      <th>B</th>\n",
       "      <th>C</th>\n",
       "      <th>D</th>\n",
       "    </tr>\n",
       "  </thead>\n",
       "  <tbody>\n",
       "    <tr>\n",
       "      <th>2023-01-01</th>\n",
       "      <td>0.367499</td>\n",
       "      <td>0.460834</td>\n",
       "      <td>-0.677562</td>\n",
       "      <td>-0.547760</td>\n",
       "    </tr>\n",
       "    <tr>\n",
       "      <th>2023-01-02</th>\n",
       "      <td>0.142564</td>\n",
       "      <td>2.269747</td>\n",
       "      <td>-0.371492</td>\n",
       "      <td>-0.922889</td>\n",
       "    </tr>\n",
       "    <tr>\n",
       "      <th>2023-01-03</th>\n",
       "      <td>0.818588</td>\n",
       "      <td>1.710490</td>\n",
       "      <td>-1.809343</td>\n",
       "      <td>0.658250</td>\n",
       "    </tr>\n",
       "    <tr>\n",
       "      <th>2023-01-04</th>\n",
       "      <td>1.865549</td>\n",
       "      <td>-0.560709</td>\n",
       "      <td>0.153803</td>\n",
       "      <td>-2.473157</td>\n",
       "    </tr>\n",
       "  </tbody>\n",
       "</table>\n",
       "</div>"
      ],
      "text/plain": [
       "                   A         B         C         D\n",
       "2023-01-01  0.367499  0.460834 -0.677562 -0.547760\n",
       "2023-01-02  0.142564  2.269747 -0.371492 -0.922889\n",
       "2023-01-03  0.818588  1.710490 -1.809343  0.658250\n",
       "2023-01-04  1.865549 -0.560709  0.153803 -2.473157"
      ]
     },
     "execution_count": 80,
     "metadata": {},
     "output_type": "execute_result"
    }
   ],
   "source": [
    "df.loc[\"20230101\":\"20230104\",\"A\":\"D\"]"
   ]
  },
  {
   "cell_type": "code",
   "execution_count": 74,
   "id": "afb4d97d",
   "metadata": {},
   "outputs": [
    {
     "data": {
      "text/plain": [
       "0.3674994411265685"
      ]
     },
     "execution_count": 74,
     "metadata": {},
     "output_type": "execute_result"
    }
   ],
   "source": [
    "df.loc[dates[0],\"A\"]"
   ]
  },
  {
   "cell_type": "code",
   "execution_count": 78,
   "id": "a538cd77",
   "metadata": {},
   "outputs": [
    {
     "data": {
      "text/plain": [
       "0.3674994411265685"
      ]
     },
     "execution_count": 78,
     "metadata": {},
     "output_type": "execute_result"
    }
   ],
   "source": [
    "df.at[dates[0],\"A\"] # It returns a scaler"
   ]
  },
  {
   "cell_type": "code",
   "execution_count": 79,
   "id": "90784087",
   "metadata": {},
   "outputs": [
    {
     "data": {
      "text/plain": [
       "A    1.865549\n",
       "B   -0.560709\n",
       "C    0.153803\n",
       "D   -2.473157\n",
       "Name: 2023-01-04 00:00:00, dtype: float64"
      ]
     },
     "execution_count": 79,
     "metadata": {},
     "output_type": "execute_result"
    }
   ],
   "source": [
    "df.iloc[3]"
   ]
  },
  {
   "cell_type": "code",
   "execution_count": 83,
   "id": "828bad88",
   "metadata": {},
   "outputs": [
    {
     "data": {
      "text/html": [
       "<div>\n",
       "<style scoped>\n",
       "    .dataframe tbody tr th:only-of-type {\n",
       "        vertical-align: middle;\n",
       "    }\n",
       "\n",
       "    .dataframe tbody tr th {\n",
       "        vertical-align: top;\n",
       "    }\n",
       "\n",
       "    .dataframe thead th {\n",
       "        text-align: right;\n",
       "    }\n",
       "</style>\n",
       "<table border=\"1\" class=\"dataframe\">\n",
       "  <thead>\n",
       "    <tr style=\"text-align: right;\">\n",
       "      <th></th>\n",
       "      <th>A</th>\n",
       "      <th>B</th>\n",
       "    </tr>\n",
       "  </thead>\n",
       "  <tbody>\n",
       "    <tr>\n",
       "      <th>2023-01-04</th>\n",
       "      <td>1.865549</td>\n",
       "      <td>-0.560709</td>\n",
       "    </tr>\n",
       "    <tr>\n",
       "      <th>2023-01-05</th>\n",
       "      <td>-0.237241</td>\n",
       "      <td>0.512410</td>\n",
       "    </tr>\n",
       "  </tbody>\n",
       "</table>\n",
       "</div>"
      ],
      "text/plain": [
       "                   A         B\n",
       "2023-01-04  1.865549 -0.560709\n",
       "2023-01-05 -0.237241  0.512410"
      ]
     },
     "execution_count": 83,
     "metadata": {},
     "output_type": "execute_result"
    }
   ],
   "source": [
    "df.iloc[3:5,0:2]"
   ]
  },
  {
   "cell_type": "code",
   "execution_count": 84,
   "id": "de454658",
   "metadata": {},
   "outputs": [
    {
     "data": {
      "text/html": [
       "<div>\n",
       "<style scoped>\n",
       "    .dataframe tbody tr th:only-of-type {\n",
       "        vertical-align: middle;\n",
       "    }\n",
       "\n",
       "    .dataframe tbody tr th {\n",
       "        vertical-align: top;\n",
       "    }\n",
       "\n",
       "    .dataframe thead th {\n",
       "        text-align: right;\n",
       "    }\n",
       "</style>\n",
       "<table border=\"1\" class=\"dataframe\">\n",
       "  <thead>\n",
       "    <tr style=\"text-align: right;\">\n",
       "      <th></th>\n",
       "      <th>A</th>\n",
       "      <th>C</th>\n",
       "    </tr>\n",
       "  </thead>\n",
       "  <tbody>\n",
       "    <tr>\n",
       "      <th>2023-01-02</th>\n",
       "      <td>0.142564</td>\n",
       "      <td>-0.371492</td>\n",
       "    </tr>\n",
       "    <tr>\n",
       "      <th>2023-01-03</th>\n",
       "      <td>0.818588</td>\n",
       "      <td>-1.809343</td>\n",
       "    </tr>\n",
       "    <tr>\n",
       "      <th>2023-01-05</th>\n",
       "      <td>-0.237241</td>\n",
       "      <td>1.851669</td>\n",
       "    </tr>\n",
       "  </tbody>\n",
       "</table>\n",
       "</div>"
      ],
      "text/plain": [
       "                   A         C\n",
       "2023-01-02  0.142564 -0.371492\n",
       "2023-01-03  0.818588 -1.809343\n",
       "2023-01-05 -0.237241  1.851669"
      ]
     },
     "execution_count": 84,
     "metadata": {},
     "output_type": "execute_result"
    }
   ],
   "source": [
    "df.iloc[[1, 2, 4], [0, 2]]"
   ]
  },
  {
   "cell_type": "code",
   "execution_count": 85,
   "id": "cfba8572",
   "metadata": {},
   "outputs": [
    {
     "data": {
      "text/html": [
       "<div>\n",
       "<style scoped>\n",
       "    .dataframe tbody tr th:only-of-type {\n",
       "        vertical-align: middle;\n",
       "    }\n",
       "\n",
       "    .dataframe tbody tr th {\n",
       "        vertical-align: top;\n",
       "    }\n",
       "\n",
       "    .dataframe thead th {\n",
       "        text-align: right;\n",
       "    }\n",
       "</style>\n",
       "<table border=\"1\" class=\"dataframe\">\n",
       "  <thead>\n",
       "    <tr style=\"text-align: right;\">\n",
       "      <th></th>\n",
       "      <th>A</th>\n",
       "      <th>B</th>\n",
       "      <th>C</th>\n",
       "      <th>D</th>\n",
       "    </tr>\n",
       "  </thead>\n",
       "  <tbody>\n",
       "    <tr>\n",
       "      <th>2023-01-02</th>\n",
       "      <td>0.142564</td>\n",
       "      <td>2.269747</td>\n",
       "      <td>-0.371492</td>\n",
       "      <td>-0.922889</td>\n",
       "    </tr>\n",
       "    <tr>\n",
       "      <th>2023-01-03</th>\n",
       "      <td>0.818588</td>\n",
       "      <td>1.710490</td>\n",
       "      <td>-1.809343</td>\n",
       "      <td>0.658250</td>\n",
       "    </tr>\n",
       "  </tbody>\n",
       "</table>\n",
       "</div>"
      ],
      "text/plain": [
       "                   A         B         C         D\n",
       "2023-01-02  0.142564  2.269747 -0.371492 -0.922889\n",
       "2023-01-03  0.818588  1.710490 -1.809343  0.658250"
      ]
     },
     "execution_count": 85,
     "metadata": {},
     "output_type": "execute_result"
    }
   ],
   "source": [
    "df.iloc[1:3, :] #For slicing rows explicitly:"
   ]
  },
  {
   "cell_type": "code",
   "execution_count": 86,
   "id": "f0bc21f6",
   "metadata": {},
   "outputs": [
    {
     "data": {
      "text/html": [
       "<div>\n",
       "<style scoped>\n",
       "    .dataframe tbody tr th:only-of-type {\n",
       "        vertical-align: middle;\n",
       "    }\n",
       "\n",
       "    .dataframe tbody tr th {\n",
       "        vertical-align: top;\n",
       "    }\n",
       "\n",
       "    .dataframe thead th {\n",
       "        text-align: right;\n",
       "    }\n",
       "</style>\n",
       "<table border=\"1\" class=\"dataframe\">\n",
       "  <thead>\n",
       "    <tr style=\"text-align: right;\">\n",
       "      <th></th>\n",
       "      <th>B</th>\n",
       "      <th>C</th>\n",
       "    </tr>\n",
       "  </thead>\n",
       "  <tbody>\n",
       "    <tr>\n",
       "      <th>2023-01-01</th>\n",
       "      <td>0.460834</td>\n",
       "      <td>-0.677562</td>\n",
       "    </tr>\n",
       "    <tr>\n",
       "      <th>2023-01-02</th>\n",
       "      <td>2.269747</td>\n",
       "      <td>-0.371492</td>\n",
       "    </tr>\n",
       "    <tr>\n",
       "      <th>2023-01-03</th>\n",
       "      <td>1.710490</td>\n",
       "      <td>-1.809343</td>\n",
       "    </tr>\n",
       "    <tr>\n",
       "      <th>2023-01-04</th>\n",
       "      <td>-0.560709</td>\n",
       "      <td>0.153803</td>\n",
       "    </tr>\n",
       "    <tr>\n",
       "      <th>2023-01-05</th>\n",
       "      <td>0.512410</td>\n",
       "      <td>1.851669</td>\n",
       "    </tr>\n",
       "    <tr>\n",
       "      <th>2023-01-06</th>\n",
       "      <td>0.648036</td>\n",
       "      <td>0.326539</td>\n",
       "    </tr>\n",
       "  </tbody>\n",
       "</table>\n",
       "</div>"
      ],
      "text/plain": [
       "                   B         C\n",
       "2023-01-01  0.460834 -0.677562\n",
       "2023-01-02  2.269747 -0.371492\n",
       "2023-01-03  1.710490 -1.809343\n",
       "2023-01-04 -0.560709  0.153803\n",
       "2023-01-05  0.512410  1.851669\n",
       "2023-01-06  0.648036  0.326539"
      ]
     },
     "execution_count": 86,
     "metadata": {},
     "output_type": "execute_result"
    }
   ],
   "source": [
    "df.iloc[:, 1:3] #For slicing columns explicitly:"
   ]
  },
  {
   "cell_type": "code",
   "execution_count": 87,
   "id": "0c10bd61",
   "metadata": {},
   "outputs": [
    {
     "data": {
      "text/plain": [
       "2.2697467905836675"
      ]
     },
     "execution_count": 87,
     "metadata": {},
     "output_type": "execute_result"
    }
   ],
   "source": [
    "df.iloc[1, 1] #For getting a value explicitly:"
   ]
  },
  {
   "cell_type": "code",
   "execution_count": 88,
   "id": "4ab0349e",
   "metadata": {},
   "outputs": [
    {
     "data": {
      "text/plain": [
       "2.2697467905836675"
      ]
     },
     "execution_count": 88,
     "metadata": {},
     "output_type": "execute_result"
    }
   ],
   "source": [
    "df.iat[1, 1] #For getting fast access to a scalar (equivalent to the prior method):"
   ]
  },
  {
   "cell_type": "code",
   "execution_count": 91,
   "id": "0a32a26c",
   "metadata": {},
   "outputs": [
    {
     "data": {
      "text/html": [
       "<div>\n",
       "<style scoped>\n",
       "    .dataframe tbody tr th:only-of-type {\n",
       "        vertical-align: middle;\n",
       "    }\n",
       "\n",
       "    .dataframe tbody tr th {\n",
       "        vertical-align: top;\n",
       "    }\n",
       "\n",
       "    .dataframe thead th {\n",
       "        text-align: right;\n",
       "    }\n",
       "</style>\n",
       "<table border=\"1\" class=\"dataframe\">\n",
       "  <thead>\n",
       "    <tr style=\"text-align: right;\">\n",
       "      <th></th>\n",
       "      <th>A</th>\n",
       "      <th>B</th>\n",
       "      <th>C</th>\n",
       "      <th>D</th>\n",
       "    </tr>\n",
       "  </thead>\n",
       "  <tbody>\n",
       "    <tr>\n",
       "      <th>2023-01-04</th>\n",
       "      <td>1.865549</td>\n",
       "      <td>-0.560709</td>\n",
       "      <td>0.153803</td>\n",
       "      <td>-2.473157</td>\n",
       "    </tr>\n",
       "    <tr>\n",
       "      <th>2023-01-05</th>\n",
       "      <td>-0.237241</td>\n",
       "      <td>0.512410</td>\n",
       "      <td>1.851669</td>\n",
       "      <td>1.086962</td>\n",
       "    </tr>\n",
       "    <tr>\n",
       "      <th>2023-01-06</th>\n",
       "      <td>0.500247</td>\n",
       "      <td>0.648036</td>\n",
       "      <td>0.326539</td>\n",
       "      <td>0.321646</td>\n",
       "    </tr>\n",
       "  </tbody>\n",
       "</table>\n",
       "</div>"
      ],
      "text/plain": [
       "                   A         B         C         D\n",
       "2023-01-04  1.865549 -0.560709  0.153803 -2.473157\n",
       "2023-01-05 -0.237241  0.512410  1.851669  1.086962\n",
       "2023-01-06  0.500247  0.648036  0.326539  0.321646"
      ]
     },
     "execution_count": 91,
     "metadata": {},
     "output_type": "execute_result"
    }
   ],
   "source": [
    "df[df[\"C\"] > 0]"
   ]
  },
  {
   "cell_type": "code",
   "execution_count": 92,
   "id": "91964391",
   "metadata": {},
   "outputs": [
    {
     "data": {
      "text/html": [
       "<div>\n",
       "<style scoped>\n",
       "    .dataframe tbody tr th:only-of-type {\n",
       "        vertical-align: middle;\n",
       "    }\n",
       "\n",
       "    .dataframe tbody tr th {\n",
       "        vertical-align: top;\n",
       "    }\n",
       "\n",
       "    .dataframe thead th {\n",
       "        text-align: right;\n",
       "    }\n",
       "</style>\n",
       "<table border=\"1\" class=\"dataframe\">\n",
       "  <thead>\n",
       "    <tr style=\"text-align: right;\">\n",
       "      <th></th>\n",
       "      <th>A</th>\n",
       "      <th>B</th>\n",
       "      <th>C</th>\n",
       "      <th>D</th>\n",
       "    </tr>\n",
       "  </thead>\n",
       "  <tbody>\n",
       "    <tr>\n",
       "      <th>2023-01-01</th>\n",
       "      <td>0.367499</td>\n",
       "      <td>0.460834</td>\n",
       "      <td>NaN</td>\n",
       "      <td>NaN</td>\n",
       "    </tr>\n",
       "    <tr>\n",
       "      <th>2023-01-02</th>\n",
       "      <td>0.142564</td>\n",
       "      <td>2.269747</td>\n",
       "      <td>NaN</td>\n",
       "      <td>NaN</td>\n",
       "    </tr>\n",
       "    <tr>\n",
       "      <th>2023-01-03</th>\n",
       "      <td>0.818588</td>\n",
       "      <td>1.710490</td>\n",
       "      <td>NaN</td>\n",
       "      <td>0.658250</td>\n",
       "    </tr>\n",
       "    <tr>\n",
       "      <th>2023-01-04</th>\n",
       "      <td>1.865549</td>\n",
       "      <td>NaN</td>\n",
       "      <td>0.153803</td>\n",
       "      <td>NaN</td>\n",
       "    </tr>\n",
       "    <tr>\n",
       "      <th>2023-01-05</th>\n",
       "      <td>NaN</td>\n",
       "      <td>0.512410</td>\n",
       "      <td>1.851669</td>\n",
       "      <td>1.086962</td>\n",
       "    </tr>\n",
       "    <tr>\n",
       "      <th>2023-01-06</th>\n",
       "      <td>0.500247</td>\n",
       "      <td>0.648036</td>\n",
       "      <td>0.326539</td>\n",
       "      <td>0.321646</td>\n",
       "    </tr>\n",
       "  </tbody>\n",
       "</table>\n",
       "</div>"
      ],
      "text/plain": [
       "                   A         B         C         D\n",
       "2023-01-01  0.367499  0.460834       NaN       NaN\n",
       "2023-01-02  0.142564  2.269747       NaN       NaN\n",
       "2023-01-03  0.818588  1.710490       NaN  0.658250\n",
       "2023-01-04  1.865549       NaN  0.153803       NaN\n",
       "2023-01-05       NaN  0.512410  1.851669  1.086962\n",
       "2023-01-06  0.500247  0.648036  0.326539  0.321646"
      ]
     },
     "execution_count": 92,
     "metadata": {},
     "output_type": "execute_result"
    }
   ],
   "source": [
    "df[df > 0]"
   ]
  },
  {
   "cell_type": "code",
   "execution_count": 94,
   "id": "510143d1",
   "metadata": {},
   "outputs": [
    {
     "data": {
      "text/html": [
       "<div>\n",
       "<style scoped>\n",
       "    .dataframe tbody tr th:only-of-type {\n",
       "        vertical-align: middle;\n",
       "    }\n",
       "\n",
       "    .dataframe tbody tr th {\n",
       "        vertical-align: top;\n",
       "    }\n",
       "\n",
       "    .dataframe thead th {\n",
       "        text-align: right;\n",
       "    }\n",
       "</style>\n",
       "<table border=\"1\" class=\"dataframe\">\n",
       "  <thead>\n",
       "    <tr style=\"text-align: right;\">\n",
       "      <th></th>\n",
       "      <th>A</th>\n",
       "      <th>B</th>\n",
       "      <th>C</th>\n",
       "      <th>D</th>\n",
       "    </tr>\n",
       "  </thead>\n",
       "  <tbody>\n",
       "    <tr>\n",
       "      <th>2023-01-01</th>\n",
       "      <td>0.367499</td>\n",
       "      <td>0.460834</td>\n",
       "      <td>-0.677562</td>\n",
       "      <td>-0.547760</td>\n",
       "    </tr>\n",
       "    <tr>\n",
       "      <th>2023-01-02</th>\n",
       "      <td>0.142564</td>\n",
       "      <td>2.269747</td>\n",
       "      <td>-0.371492</td>\n",
       "      <td>-0.922889</td>\n",
       "    </tr>\n",
       "    <tr>\n",
       "      <th>2023-01-03</th>\n",
       "      <td>0.818588</td>\n",
       "      <td>1.710490</td>\n",
       "      <td>-1.809343</td>\n",
       "      <td>0.658250</td>\n",
       "    </tr>\n",
       "    <tr>\n",
       "      <th>2023-01-04</th>\n",
       "      <td>1.865549</td>\n",
       "      <td>-0.560709</td>\n",
       "      <td>0.153803</td>\n",
       "      <td>-2.473157</td>\n",
       "    </tr>\n",
       "    <tr>\n",
       "      <th>2023-01-05</th>\n",
       "      <td>-0.237241</td>\n",
       "      <td>0.512410</td>\n",
       "      <td>1.851669</td>\n",
       "      <td>1.086962</td>\n",
       "    </tr>\n",
       "    <tr>\n",
       "      <th>2023-01-06</th>\n",
       "      <td>0.500247</td>\n",
       "      <td>0.648036</td>\n",
       "      <td>0.326539</td>\n",
       "      <td>0.321646</td>\n",
       "    </tr>\n",
       "  </tbody>\n",
       "</table>\n",
       "</div>"
      ],
      "text/plain": [
       "                   A         B         C         D\n",
       "2023-01-01  0.367499  0.460834 -0.677562 -0.547760\n",
       "2023-01-02  0.142564  2.269747 -0.371492 -0.922889\n",
       "2023-01-03  0.818588  1.710490 -1.809343  0.658250\n",
       "2023-01-04  1.865549 -0.560709  0.153803 -2.473157\n",
       "2023-01-05 -0.237241  0.512410  1.851669  1.086962\n",
       "2023-01-06  0.500247  0.648036  0.326539  0.321646"
      ]
     },
     "execution_count": 94,
     "metadata": {},
     "output_type": "execute_result"
    }
   ],
   "source": [
    "df2 = df.copy()\n",
    "df2"
   ]
  },
  {
   "cell_type": "code",
   "execution_count": 97,
   "id": "9daa3c53",
   "metadata": {},
   "outputs": [
    {
     "data": {
      "text/html": [
       "<div>\n",
       "<style scoped>\n",
       "    .dataframe tbody tr th:only-of-type {\n",
       "        vertical-align: middle;\n",
       "    }\n",
       "\n",
       "    .dataframe tbody tr th {\n",
       "        vertical-align: top;\n",
       "    }\n",
       "\n",
       "    .dataframe thead th {\n",
       "        text-align: right;\n",
       "    }\n",
       "</style>\n",
       "<table border=\"1\" class=\"dataframe\">\n",
       "  <thead>\n",
       "    <tr style=\"text-align: right;\">\n",
       "      <th></th>\n",
       "      <th>A</th>\n",
       "      <th>B</th>\n",
       "      <th>C</th>\n",
       "      <th>D</th>\n",
       "      <th>E</th>\n",
       "    </tr>\n",
       "  </thead>\n",
       "  <tbody>\n",
       "    <tr>\n",
       "      <th>2023-01-01</th>\n",
       "      <td>0.367499</td>\n",
       "      <td>0.460834</td>\n",
       "      <td>-0.677562</td>\n",
       "      <td>-0.547760</td>\n",
       "      <td>one</td>\n",
       "    </tr>\n",
       "    <tr>\n",
       "      <th>2023-01-02</th>\n",
       "      <td>0.142564</td>\n",
       "      <td>2.269747</td>\n",
       "      <td>-0.371492</td>\n",
       "      <td>-0.922889</td>\n",
       "      <td>one</td>\n",
       "    </tr>\n",
       "    <tr>\n",
       "      <th>2023-01-03</th>\n",
       "      <td>0.818588</td>\n",
       "      <td>1.710490</td>\n",
       "      <td>-1.809343</td>\n",
       "      <td>0.658250</td>\n",
       "      <td>two</td>\n",
       "    </tr>\n",
       "    <tr>\n",
       "      <th>2023-01-04</th>\n",
       "      <td>1.865549</td>\n",
       "      <td>-0.560709</td>\n",
       "      <td>0.153803</td>\n",
       "      <td>-2.473157</td>\n",
       "      <td>three</td>\n",
       "    </tr>\n",
       "    <tr>\n",
       "      <th>2023-01-05</th>\n",
       "      <td>-0.237241</td>\n",
       "      <td>0.512410</td>\n",
       "      <td>1.851669</td>\n",
       "      <td>1.086962</td>\n",
       "      <td>four</td>\n",
       "    </tr>\n",
       "    <tr>\n",
       "      <th>2023-01-06</th>\n",
       "      <td>0.500247</td>\n",
       "      <td>0.648036</td>\n",
       "      <td>0.326539</td>\n",
       "      <td>0.321646</td>\n",
       "      <td>three</td>\n",
       "    </tr>\n",
       "  </tbody>\n",
       "</table>\n",
       "</div>"
      ],
      "text/plain": [
       "                   A         B         C         D      E\n",
       "2023-01-01  0.367499  0.460834 -0.677562 -0.547760    one\n",
       "2023-01-02  0.142564  2.269747 -0.371492 -0.922889    one\n",
       "2023-01-03  0.818588  1.710490 -1.809343  0.658250    two\n",
       "2023-01-04  1.865549 -0.560709  0.153803 -2.473157  three\n",
       "2023-01-05 -0.237241  0.512410  1.851669  1.086962   four\n",
       "2023-01-06  0.500247  0.648036  0.326539  0.321646  three"
      ]
     },
     "execution_count": 97,
     "metadata": {},
     "output_type": "execute_result"
    }
   ],
   "source": [
    "df2[\"E\"] = [\"one\", \"one\", \"two\", \"three\", \"four\", \"three\"]\n",
    "df2"
   ]
  },
  {
   "cell_type": "code",
   "execution_count": 96,
   "id": "ac5eff38",
   "metadata": {},
   "outputs": [
    {
     "data": {
      "text/html": [
       "<div>\n",
       "<style scoped>\n",
       "    .dataframe tbody tr th:only-of-type {\n",
       "        vertical-align: middle;\n",
       "    }\n",
       "\n",
       "    .dataframe tbody tr th {\n",
       "        vertical-align: top;\n",
       "    }\n",
       "\n",
       "    .dataframe thead th {\n",
       "        text-align: right;\n",
       "    }\n",
       "</style>\n",
       "<table border=\"1\" class=\"dataframe\">\n",
       "  <thead>\n",
       "    <tr style=\"text-align: right;\">\n",
       "      <th></th>\n",
       "      <th>A</th>\n",
       "      <th>B</th>\n",
       "      <th>C</th>\n",
       "      <th>D</th>\n",
       "      <th>E</th>\n",
       "    </tr>\n",
       "  </thead>\n",
       "  <tbody>\n",
       "    <tr>\n",
       "      <th>2023-01-03</th>\n",
       "      <td>0.818588</td>\n",
       "      <td>1.71049</td>\n",
       "      <td>-1.809343</td>\n",
       "      <td>0.658250</td>\n",
       "      <td>two</td>\n",
       "    </tr>\n",
       "    <tr>\n",
       "      <th>2023-01-05</th>\n",
       "      <td>-0.237241</td>\n",
       "      <td>0.51241</td>\n",
       "      <td>1.851669</td>\n",
       "      <td>1.086962</td>\n",
       "      <td>four</td>\n",
       "    </tr>\n",
       "  </tbody>\n",
       "</table>\n",
       "</div>"
      ],
      "text/plain": [
       "                   A        B         C         D     E\n",
       "2023-01-03  0.818588  1.71049 -1.809343  0.658250   two\n",
       "2023-01-05 -0.237241  0.51241  1.851669  1.086962  four"
      ]
     },
     "execution_count": 96,
     "metadata": {},
     "output_type": "execute_result"
    }
   ],
   "source": [
    "df2[df2[\"E\"].isin([\"two\", \"four\"])]"
   ]
  },
  {
   "cell_type": "code",
   "execution_count": 98,
   "id": "f5956560",
   "metadata": {},
   "outputs": [],
   "source": [
    "df.at[dates[0], \"A\"] = 0  #Setting values by label:"
   ]
  },
  {
   "cell_type": "code",
   "execution_count": 99,
   "id": "6d6b9de7",
   "metadata": {},
   "outputs": [],
   "source": [
    "#Setting values by position:\n",
    "df.iat[0, 1] = 0"
   ]
  },
  {
   "cell_type": "code",
   "execution_count": 100,
   "id": "149c292a",
   "metadata": {},
   "outputs": [
    {
     "data": {
      "text/html": [
       "<div>\n",
       "<style scoped>\n",
       "    .dataframe tbody tr th:only-of-type {\n",
       "        vertical-align: middle;\n",
       "    }\n",
       "\n",
       "    .dataframe tbody tr th {\n",
       "        vertical-align: top;\n",
       "    }\n",
       "\n",
       "    .dataframe thead th {\n",
       "        text-align: right;\n",
       "    }\n",
       "</style>\n",
       "<table border=\"1\" class=\"dataframe\">\n",
       "  <thead>\n",
       "    <tr style=\"text-align: right;\">\n",
       "      <th></th>\n",
       "      <th>A</th>\n",
       "      <th>B</th>\n",
       "      <th>C</th>\n",
       "      <th>D</th>\n",
       "    </tr>\n",
       "  </thead>\n",
       "  <tbody>\n",
       "    <tr>\n",
       "      <th>2023-01-01</th>\n",
       "      <td>0.000000</td>\n",
       "      <td>0.000000</td>\n",
       "      <td>-0.677562</td>\n",
       "      <td>-0.547760</td>\n",
       "    </tr>\n",
       "    <tr>\n",
       "      <th>2023-01-02</th>\n",
       "      <td>0.142564</td>\n",
       "      <td>2.269747</td>\n",
       "      <td>-0.371492</td>\n",
       "      <td>-0.922889</td>\n",
       "    </tr>\n",
       "    <tr>\n",
       "      <th>2023-01-03</th>\n",
       "      <td>0.818588</td>\n",
       "      <td>1.710490</td>\n",
       "      <td>-1.809343</td>\n",
       "      <td>0.658250</td>\n",
       "    </tr>\n",
       "    <tr>\n",
       "      <th>2023-01-04</th>\n",
       "      <td>1.865549</td>\n",
       "      <td>-0.560709</td>\n",
       "      <td>0.153803</td>\n",
       "      <td>-2.473157</td>\n",
       "    </tr>\n",
       "    <tr>\n",
       "      <th>2023-01-05</th>\n",
       "      <td>-0.237241</td>\n",
       "      <td>0.512410</td>\n",
       "      <td>1.851669</td>\n",
       "      <td>1.086962</td>\n",
       "    </tr>\n",
       "    <tr>\n",
       "      <th>2023-01-06</th>\n",
       "      <td>0.500247</td>\n",
       "      <td>0.648036</td>\n",
       "      <td>0.326539</td>\n",
       "      <td>0.321646</td>\n",
       "    </tr>\n",
       "  </tbody>\n",
       "</table>\n",
       "</div>"
      ],
      "text/plain": [
       "                   A         B         C         D\n",
       "2023-01-01  0.000000  0.000000 -0.677562 -0.547760\n",
       "2023-01-02  0.142564  2.269747 -0.371492 -0.922889\n",
       "2023-01-03  0.818588  1.710490 -1.809343  0.658250\n",
       "2023-01-04  1.865549 -0.560709  0.153803 -2.473157\n",
       "2023-01-05 -0.237241  0.512410  1.851669  1.086962\n",
       "2023-01-06  0.500247  0.648036  0.326539  0.321646"
      ]
     },
     "execution_count": 100,
     "metadata": {},
     "output_type": "execute_result"
    }
   ],
   "source": [
    "df"
   ]
  },
  {
   "cell_type": "code",
   "execution_count": 102,
   "id": "4d347025",
   "metadata": {},
   "outputs": [
    {
     "data": {
      "text/html": [
       "<div>\n",
       "<style scoped>\n",
       "    .dataframe tbody tr th:only-of-type {\n",
       "        vertical-align: middle;\n",
       "    }\n",
       "\n",
       "    .dataframe tbody tr th {\n",
       "        vertical-align: top;\n",
       "    }\n",
       "\n",
       "    .dataframe thead th {\n",
       "        text-align: right;\n",
       "    }\n",
       "</style>\n",
       "<table border=\"1\" class=\"dataframe\">\n",
       "  <thead>\n",
       "    <tr style=\"text-align: right;\">\n",
       "      <th></th>\n",
       "      <th>A</th>\n",
       "      <th>B</th>\n",
       "      <th>C</th>\n",
       "      <th>D</th>\n",
       "      <th>E</th>\n",
       "    </tr>\n",
       "  </thead>\n",
       "  <tbody>\n",
       "    <tr>\n",
       "      <th>2023-01-01</th>\n",
       "      <td>0.000000</td>\n",
       "      <td>0.000000</td>\n",
       "      <td>-0.677562</td>\n",
       "      <td>-0.547760</td>\n",
       "      <td>1.0</td>\n",
       "    </tr>\n",
       "    <tr>\n",
       "      <th>2023-01-02</th>\n",
       "      <td>0.142564</td>\n",
       "      <td>2.269747</td>\n",
       "      <td>-0.371492</td>\n",
       "      <td>-0.922889</td>\n",
       "      <td>1.0</td>\n",
       "    </tr>\n",
       "    <tr>\n",
       "      <th>2023-01-03</th>\n",
       "      <td>0.818588</td>\n",
       "      <td>1.710490</td>\n",
       "      <td>-1.809343</td>\n",
       "      <td>0.658250</td>\n",
       "      <td>NaN</td>\n",
       "    </tr>\n",
       "    <tr>\n",
       "      <th>2023-01-04</th>\n",
       "      <td>1.865549</td>\n",
       "      <td>-0.560709</td>\n",
       "      <td>0.153803</td>\n",
       "      <td>-2.473157</td>\n",
       "      <td>NaN</td>\n",
       "    </tr>\n",
       "  </tbody>\n",
       "</table>\n",
       "</div>"
      ],
      "text/plain": [
       "                   A         B         C         D    E\n",
       "2023-01-01  0.000000  0.000000 -0.677562 -0.547760  1.0\n",
       "2023-01-02  0.142564  2.269747 -0.371492 -0.922889  1.0\n",
       "2023-01-03  0.818588  1.710490 -1.809343  0.658250  NaN\n",
       "2023-01-04  1.865549 -0.560709  0.153803 -2.473157  NaN"
      ]
     },
     "execution_count": 102,
     "metadata": {},
     "output_type": "execute_result"
    }
   ],
   "source": [
    "df1 = df.reindex(index=dates[0:4], columns=list(df.columns) + [\"E\"])\n",
    "df1.loc[dates[0] : dates[1], \"E\"] = 1\n",
    "df1"
   ]
  },
  {
   "cell_type": "code",
   "execution_count": 103,
   "id": "9e7f1b55",
   "metadata": {},
   "outputs": [
    {
     "data": {
      "text/html": [
       "<div>\n",
       "<style scoped>\n",
       "    .dataframe tbody tr th:only-of-type {\n",
       "        vertical-align: middle;\n",
       "    }\n",
       "\n",
       "    .dataframe tbody tr th {\n",
       "        vertical-align: top;\n",
       "    }\n",
       "\n",
       "    .dataframe thead th {\n",
       "        text-align: right;\n",
       "    }\n",
       "</style>\n",
       "<table border=\"1\" class=\"dataframe\">\n",
       "  <thead>\n",
       "    <tr style=\"text-align: right;\">\n",
       "      <th></th>\n",
       "      <th>A</th>\n",
       "      <th>B</th>\n",
       "      <th>C</th>\n",
       "      <th>D</th>\n",
       "      <th>E</th>\n",
       "    </tr>\n",
       "  </thead>\n",
       "  <tbody>\n",
       "    <tr>\n",
       "      <th>2023-01-01</th>\n",
       "      <td>0.000000</td>\n",
       "      <td>0.000000</td>\n",
       "      <td>-0.677562</td>\n",
       "      <td>-0.547760</td>\n",
       "      <td>1.0</td>\n",
       "    </tr>\n",
       "    <tr>\n",
       "      <th>2023-01-02</th>\n",
       "      <td>0.142564</td>\n",
       "      <td>2.269747</td>\n",
       "      <td>-0.371492</td>\n",
       "      <td>-0.922889</td>\n",
       "      <td>1.0</td>\n",
       "    </tr>\n",
       "  </tbody>\n",
       "</table>\n",
       "</div>"
      ],
      "text/plain": [
       "                   A         B         C         D    E\n",
       "2023-01-01  0.000000  0.000000 -0.677562 -0.547760  1.0\n",
       "2023-01-02  0.142564  2.269747 -0.371492 -0.922889  1.0"
      ]
     },
     "execution_count": 103,
     "metadata": {},
     "output_type": "execute_result"
    }
   ],
   "source": [
    "df1.dropna(how=\"any\")"
   ]
  },
  {
   "cell_type": "code",
   "execution_count": 104,
   "id": "d09387f7",
   "metadata": {},
   "outputs": [
    {
     "data": {
      "text/html": [
       "<div>\n",
       "<style scoped>\n",
       "    .dataframe tbody tr th:only-of-type {\n",
       "        vertical-align: middle;\n",
       "    }\n",
       "\n",
       "    .dataframe tbody tr th {\n",
       "        vertical-align: top;\n",
       "    }\n",
       "\n",
       "    .dataframe thead th {\n",
       "        text-align: right;\n",
       "    }\n",
       "</style>\n",
       "<table border=\"1\" class=\"dataframe\">\n",
       "  <thead>\n",
       "    <tr style=\"text-align: right;\">\n",
       "      <th></th>\n",
       "      <th>A</th>\n",
       "      <th>B</th>\n",
       "      <th>C</th>\n",
       "      <th>D</th>\n",
       "      <th>E</th>\n",
       "    </tr>\n",
       "  </thead>\n",
       "  <tbody>\n",
       "    <tr>\n",
       "      <th>2023-01-01</th>\n",
       "      <td>0.000000</td>\n",
       "      <td>0.000000</td>\n",
       "      <td>-0.677562</td>\n",
       "      <td>-0.547760</td>\n",
       "      <td>1.0</td>\n",
       "    </tr>\n",
       "    <tr>\n",
       "      <th>2023-01-02</th>\n",
       "      <td>0.142564</td>\n",
       "      <td>2.269747</td>\n",
       "      <td>-0.371492</td>\n",
       "      <td>-0.922889</td>\n",
       "      <td>1.0</td>\n",
       "    </tr>\n",
       "    <tr>\n",
       "      <th>2023-01-03</th>\n",
       "      <td>0.818588</td>\n",
       "      <td>1.710490</td>\n",
       "      <td>-1.809343</td>\n",
       "      <td>0.658250</td>\n",
       "      <td>5.0</td>\n",
       "    </tr>\n",
       "    <tr>\n",
       "      <th>2023-01-04</th>\n",
       "      <td>1.865549</td>\n",
       "      <td>-0.560709</td>\n",
       "      <td>0.153803</td>\n",
       "      <td>-2.473157</td>\n",
       "      <td>5.0</td>\n",
       "    </tr>\n",
       "  </tbody>\n",
       "</table>\n",
       "</div>"
      ],
      "text/plain": [
       "                   A         B         C         D    E\n",
       "2023-01-01  0.000000  0.000000 -0.677562 -0.547760  1.0\n",
       "2023-01-02  0.142564  2.269747 -0.371492 -0.922889  1.0\n",
       "2023-01-03  0.818588  1.710490 -1.809343  0.658250  5.0\n",
       "2023-01-04  1.865549 -0.560709  0.153803 -2.473157  5.0"
      ]
     },
     "execution_count": 104,
     "metadata": {},
     "output_type": "execute_result"
    }
   ],
   "source": [
    "df1.fillna(value=5)"
   ]
  },
  {
   "cell_type": "code",
   "execution_count": 105,
   "id": "50049f0b",
   "metadata": {},
   "outputs": [
    {
     "data": {
      "text/html": [
       "<div>\n",
       "<style scoped>\n",
       "    .dataframe tbody tr th:only-of-type {\n",
       "        vertical-align: middle;\n",
       "    }\n",
       "\n",
       "    .dataframe tbody tr th {\n",
       "        vertical-align: top;\n",
       "    }\n",
       "\n",
       "    .dataframe thead th {\n",
       "        text-align: right;\n",
       "    }\n",
       "</style>\n",
       "<table border=\"1\" class=\"dataframe\">\n",
       "  <thead>\n",
       "    <tr style=\"text-align: right;\">\n",
       "      <th></th>\n",
       "      <th>A</th>\n",
       "      <th>B</th>\n",
       "      <th>C</th>\n",
       "      <th>D</th>\n",
       "      <th>E</th>\n",
       "    </tr>\n",
       "  </thead>\n",
       "  <tbody>\n",
       "    <tr>\n",
       "      <th>2023-01-01</th>\n",
       "      <td>False</td>\n",
       "      <td>False</td>\n",
       "      <td>False</td>\n",
       "      <td>False</td>\n",
       "      <td>False</td>\n",
       "    </tr>\n",
       "    <tr>\n",
       "      <th>2023-01-02</th>\n",
       "      <td>False</td>\n",
       "      <td>False</td>\n",
       "      <td>False</td>\n",
       "      <td>False</td>\n",
       "      <td>False</td>\n",
       "    </tr>\n",
       "    <tr>\n",
       "      <th>2023-01-03</th>\n",
       "      <td>False</td>\n",
       "      <td>False</td>\n",
       "      <td>False</td>\n",
       "      <td>False</td>\n",
       "      <td>True</td>\n",
       "    </tr>\n",
       "    <tr>\n",
       "      <th>2023-01-04</th>\n",
       "      <td>False</td>\n",
       "      <td>False</td>\n",
       "      <td>False</td>\n",
       "      <td>False</td>\n",
       "      <td>True</td>\n",
       "    </tr>\n",
       "  </tbody>\n",
       "</table>\n",
       "</div>"
      ],
      "text/plain": [
       "                A      B      C      D      E\n",
       "2023-01-01  False  False  False  False  False\n",
       "2023-01-02  False  False  False  False  False\n",
       "2023-01-03  False  False  False  False   True\n",
       "2023-01-04  False  False  False  False   True"
      ]
     },
     "execution_count": 105,
     "metadata": {},
     "output_type": "execute_result"
    }
   ],
   "source": [
    "pd.isna(df1)"
   ]
  },
  {
   "cell_type": "code",
   "execution_count": 106,
   "id": "b0df2d0e",
   "metadata": {},
   "outputs": [
    {
     "data": {
      "text/html": [
       "<div>\n",
       "<style scoped>\n",
       "    .dataframe tbody tr th:only-of-type {\n",
       "        vertical-align: middle;\n",
       "    }\n",
       "\n",
       "    .dataframe tbody tr th {\n",
       "        vertical-align: top;\n",
       "    }\n",
       "\n",
       "    .dataframe thead th {\n",
       "        text-align: right;\n",
       "    }\n",
       "</style>\n",
       "<table border=\"1\" class=\"dataframe\">\n",
       "  <thead>\n",
       "    <tr style=\"text-align: right;\">\n",
       "      <th></th>\n",
       "      <th>A</th>\n",
       "      <th>B</th>\n",
       "      <th>C</th>\n",
       "      <th>D</th>\n",
       "    </tr>\n",
       "  </thead>\n",
       "  <tbody>\n",
       "    <tr>\n",
       "      <th>2023-01-01</th>\n",
       "      <td>0.000000</td>\n",
       "      <td>0.000000</td>\n",
       "      <td>-0.677562</td>\n",
       "      <td>-0.547760</td>\n",
       "    </tr>\n",
       "    <tr>\n",
       "      <th>2023-01-02</th>\n",
       "      <td>0.142564</td>\n",
       "      <td>2.269747</td>\n",
       "      <td>-0.371492</td>\n",
       "      <td>-0.922889</td>\n",
       "    </tr>\n",
       "    <tr>\n",
       "      <th>2023-01-03</th>\n",
       "      <td>0.818588</td>\n",
       "      <td>1.710490</td>\n",
       "      <td>-1.809343</td>\n",
       "      <td>0.658250</td>\n",
       "    </tr>\n",
       "    <tr>\n",
       "      <th>2023-01-04</th>\n",
       "      <td>1.865549</td>\n",
       "      <td>-0.560709</td>\n",
       "      <td>0.153803</td>\n",
       "      <td>-2.473157</td>\n",
       "    </tr>\n",
       "    <tr>\n",
       "      <th>2023-01-05</th>\n",
       "      <td>-0.237241</td>\n",
       "      <td>0.512410</td>\n",
       "      <td>1.851669</td>\n",
       "      <td>1.086962</td>\n",
       "    </tr>\n",
       "    <tr>\n",
       "      <th>2023-01-06</th>\n",
       "      <td>0.500247</td>\n",
       "      <td>0.648036</td>\n",
       "      <td>0.326539</td>\n",
       "      <td>0.321646</td>\n",
       "    </tr>\n",
       "  </tbody>\n",
       "</table>\n",
       "</div>"
      ],
      "text/plain": [
       "                   A         B         C         D\n",
       "2023-01-01  0.000000  0.000000 -0.677562 -0.547760\n",
       "2023-01-02  0.142564  2.269747 -0.371492 -0.922889\n",
       "2023-01-03  0.818588  1.710490 -1.809343  0.658250\n",
       "2023-01-04  1.865549 -0.560709  0.153803 -2.473157\n",
       "2023-01-05 -0.237241  0.512410  1.851669  1.086962\n",
       "2023-01-06  0.500247  0.648036  0.326539  0.321646"
      ]
     },
     "execution_count": 106,
     "metadata": {},
     "output_type": "execute_result"
    }
   ],
   "source": [
    "df"
   ]
  },
  {
   "cell_type": "code",
   "execution_count": 107,
   "id": "bb67f5f9",
   "metadata": {},
   "outputs": [
    {
     "data": {
      "text/plain": [
       "A    0.514951\n",
       "B    0.763329\n",
       "C   -0.087731\n",
       "D   -0.312825\n",
       "dtype: float64"
      ]
     },
     "execution_count": 107,
     "metadata": {},
     "output_type": "execute_result"
    }
   ],
   "source": [
    "df.mean()"
   ]
  },
  {
   "cell_type": "code",
   "execution_count": 108,
   "id": "a298ae1f",
   "metadata": {},
   "outputs": [
    {
     "data": {
      "text/plain": [
       "2023-01-01   -0.306331\n",
       "2023-01-02    0.279482\n",
       "2023-01-03    0.344496\n",
       "2023-01-04   -0.253629\n",
       "2023-01-05    0.803450\n",
       "2023-01-06    0.449117\n",
       "Freq: D, dtype: float64"
      ]
     },
     "execution_count": 108,
     "metadata": {},
     "output_type": "execute_result"
    }
   ],
   "source": [
    "df.mean(axis=1)"
   ]
  },
  {
   "cell_type": "code",
   "execution_count": 109,
   "id": "6fc72a0a",
   "metadata": {},
   "outputs": [
    {
     "data": {
      "text/plain": [
       "2023-01-01    NaN\n",
       "2023-01-02    NaN\n",
       "2023-01-03    1.0\n",
       "2023-01-04    3.0\n",
       "2023-01-05    5.0\n",
       "2023-01-06    NaN\n",
       "Freq: D, dtype: float64"
      ]
     },
     "execution_count": 109,
     "metadata": {},
     "output_type": "execute_result"
    }
   ],
   "source": [
    "s = pd.Series([1, 3, 5, np.nan, 6, 8], index=dates).shift(2)\n",
    "s"
   ]
  },
  {
   "cell_type": "code",
   "execution_count": 110,
   "id": "9e044c3b",
   "metadata": {},
   "outputs": [
    {
     "data": {
      "text/html": [
       "<div>\n",
       "<style scoped>\n",
       "    .dataframe tbody tr th:only-of-type {\n",
       "        vertical-align: middle;\n",
       "    }\n",
       "\n",
       "    .dataframe tbody tr th {\n",
       "        vertical-align: top;\n",
       "    }\n",
       "\n",
       "    .dataframe thead th {\n",
       "        text-align: right;\n",
       "    }\n",
       "</style>\n",
       "<table border=\"1\" class=\"dataframe\">\n",
       "  <thead>\n",
       "    <tr style=\"text-align: right;\">\n",
       "      <th></th>\n",
       "      <th>A</th>\n",
       "      <th>B</th>\n",
       "      <th>C</th>\n",
       "      <th>D</th>\n",
       "    </tr>\n",
       "  </thead>\n",
       "  <tbody>\n",
       "    <tr>\n",
       "      <th>2023-01-01</th>\n",
       "      <td>NaN</td>\n",
       "      <td>NaN</td>\n",
       "      <td>NaN</td>\n",
       "      <td>NaN</td>\n",
       "    </tr>\n",
       "    <tr>\n",
       "      <th>2023-01-02</th>\n",
       "      <td>NaN</td>\n",
       "      <td>NaN</td>\n",
       "      <td>NaN</td>\n",
       "      <td>NaN</td>\n",
       "    </tr>\n",
       "    <tr>\n",
       "      <th>2023-01-03</th>\n",
       "      <td>-0.181412</td>\n",
       "      <td>0.710490</td>\n",
       "      <td>-2.809343</td>\n",
       "      <td>-0.341750</td>\n",
       "    </tr>\n",
       "    <tr>\n",
       "      <th>2023-01-04</th>\n",
       "      <td>-1.134451</td>\n",
       "      <td>-3.560709</td>\n",
       "      <td>-2.846197</td>\n",
       "      <td>-5.473157</td>\n",
       "    </tr>\n",
       "    <tr>\n",
       "      <th>2023-01-05</th>\n",
       "      <td>-5.237241</td>\n",
       "      <td>-4.487590</td>\n",
       "      <td>-3.148331</td>\n",
       "      <td>-3.913038</td>\n",
       "    </tr>\n",
       "    <tr>\n",
       "      <th>2023-01-06</th>\n",
       "      <td>NaN</td>\n",
       "      <td>NaN</td>\n",
       "      <td>NaN</td>\n",
       "      <td>NaN</td>\n",
       "    </tr>\n",
       "  </tbody>\n",
       "</table>\n",
       "</div>"
      ],
      "text/plain": [
       "                   A         B         C         D\n",
       "2023-01-01       NaN       NaN       NaN       NaN\n",
       "2023-01-02       NaN       NaN       NaN       NaN\n",
       "2023-01-03 -0.181412  0.710490 -2.809343 -0.341750\n",
       "2023-01-04 -1.134451 -3.560709 -2.846197 -5.473157\n",
       "2023-01-05 -5.237241 -4.487590 -3.148331 -3.913038\n",
       "2023-01-06       NaN       NaN       NaN       NaN"
      ]
     },
     "execution_count": 110,
     "metadata": {},
     "output_type": "execute_result"
    }
   ],
   "source": [
    "df.sub(s, axis=\"index\")"
   ]
  },
  {
   "cell_type": "code",
   "execution_count": 111,
   "id": "f462776b",
   "metadata": {},
   "outputs": [
    {
     "data": {
      "text/html": [
       "<div>\n",
       "<style scoped>\n",
       "    .dataframe tbody tr th:only-of-type {\n",
       "        vertical-align: middle;\n",
       "    }\n",
       "\n",
       "    .dataframe tbody tr th {\n",
       "        vertical-align: top;\n",
       "    }\n",
       "\n",
       "    .dataframe thead th {\n",
       "        text-align: right;\n",
       "    }\n",
       "</style>\n",
       "<table border=\"1\" class=\"dataframe\">\n",
       "  <thead>\n",
       "    <tr style=\"text-align: right;\">\n",
       "      <th></th>\n",
       "      <th>A</th>\n",
       "      <th>B</th>\n",
       "      <th>C</th>\n",
       "      <th>D</th>\n",
       "    </tr>\n",
       "  </thead>\n",
       "  <tbody>\n",
       "    <tr>\n",
       "      <th>2023-01-01</th>\n",
       "      <td>0.000000</td>\n",
       "      <td>0.000000</td>\n",
       "      <td>-0.677562</td>\n",
       "      <td>-0.547760</td>\n",
       "    </tr>\n",
       "    <tr>\n",
       "      <th>2023-01-02</th>\n",
       "      <td>0.142564</td>\n",
       "      <td>2.269747</td>\n",
       "      <td>-0.371492</td>\n",
       "      <td>-0.922889</td>\n",
       "    </tr>\n",
       "    <tr>\n",
       "      <th>2023-01-03</th>\n",
       "      <td>0.818588</td>\n",
       "      <td>1.710490</td>\n",
       "      <td>-1.809343</td>\n",
       "      <td>0.658250</td>\n",
       "    </tr>\n",
       "    <tr>\n",
       "      <th>2023-01-04</th>\n",
       "      <td>1.865549</td>\n",
       "      <td>-0.560709</td>\n",
       "      <td>0.153803</td>\n",
       "      <td>-2.473157</td>\n",
       "    </tr>\n",
       "    <tr>\n",
       "      <th>2023-01-05</th>\n",
       "      <td>-0.237241</td>\n",
       "      <td>0.512410</td>\n",
       "      <td>1.851669</td>\n",
       "      <td>1.086962</td>\n",
       "    </tr>\n",
       "    <tr>\n",
       "      <th>2023-01-06</th>\n",
       "      <td>0.500247</td>\n",
       "      <td>0.648036</td>\n",
       "      <td>0.326539</td>\n",
       "      <td>0.321646</td>\n",
       "    </tr>\n",
       "  </tbody>\n",
       "</table>\n",
       "</div>"
      ],
      "text/plain": [
       "                   A         B         C         D\n",
       "2023-01-01  0.000000  0.000000 -0.677562 -0.547760\n",
       "2023-01-02  0.142564  2.269747 -0.371492 -0.922889\n",
       "2023-01-03  0.818588  1.710490 -1.809343  0.658250\n",
       "2023-01-04  1.865549 -0.560709  0.153803 -2.473157\n",
       "2023-01-05 -0.237241  0.512410  1.851669  1.086962\n",
       "2023-01-06  0.500247  0.648036  0.326539  0.321646"
      ]
     },
     "execution_count": 111,
     "metadata": {},
     "output_type": "execute_result"
    }
   ],
   "source": [
    "df"
   ]
  },
  {
   "cell_type": "code",
   "execution_count": 112,
   "id": "9836e04a",
   "metadata": {},
   "outputs": [
    {
     "data": {
      "text/plain": [
       "A    2.883726\n",
       "B    4.274642\n",
       "C   -0.491294\n",
       "D   -1.751818\n",
       "dtype: float64"
      ]
     },
     "execution_count": 112,
     "metadata": {},
     "output_type": "execute_result"
    }
   ],
   "source": [
    "df.agg(lambda x: np.mean(x) * 5.6)"
   ]
  },
  {
   "cell_type": "code",
   "execution_count": 113,
   "id": "9009c875",
   "metadata": {},
   "outputs": [
    {
     "data": {
      "text/html": [
       "<div>\n",
       "<style scoped>\n",
       "    .dataframe tbody tr th:only-of-type {\n",
       "        vertical-align: middle;\n",
       "    }\n",
       "\n",
       "    .dataframe tbody tr th {\n",
       "        vertical-align: top;\n",
       "    }\n",
       "\n",
       "    .dataframe thead th {\n",
       "        text-align: right;\n",
       "    }\n",
       "</style>\n",
       "<table border=\"1\" class=\"dataframe\">\n",
       "  <thead>\n",
       "    <tr style=\"text-align: right;\">\n",
       "      <th></th>\n",
       "      <th>A</th>\n",
       "      <th>B</th>\n",
       "      <th>C</th>\n",
       "      <th>D</th>\n",
       "    </tr>\n",
       "  </thead>\n",
       "  <tbody>\n",
       "    <tr>\n",
       "      <th>2023-01-01</th>\n",
       "      <td>0.000000</td>\n",
       "      <td>0.000000</td>\n",
       "      <td>-68.569274</td>\n",
       "      <td>-55.433353</td>\n",
       "    </tr>\n",
       "    <tr>\n",
       "      <th>2023-01-02</th>\n",
       "      <td>14.427468</td>\n",
       "      <td>229.698375</td>\n",
       "      <td>-37.594997</td>\n",
       "      <td>-93.396349</td>\n",
       "    </tr>\n",
       "    <tr>\n",
       "      <th>2023-01-03</th>\n",
       "      <td>82.841072</td>\n",
       "      <td>173.101574</td>\n",
       "      <td>-183.105522</td>\n",
       "      <td>66.614907</td>\n",
       "    </tr>\n",
       "    <tr>\n",
       "      <th>2023-01-04</th>\n",
       "      <td>188.793517</td>\n",
       "      <td>-56.743774</td>\n",
       "      <td>15.564834</td>\n",
       "      <td>-250.283470</td>\n",
       "    </tr>\n",
       "    <tr>\n",
       "      <th>2023-01-05</th>\n",
       "      <td>-24.008767</td>\n",
       "      <td>51.855858</td>\n",
       "      <td>187.388929</td>\n",
       "      <td>110.000603</td>\n",
       "    </tr>\n",
       "    <tr>\n",
       "      <th>2023-01-06</th>\n",
       "      <td>50.625010</td>\n",
       "      <td>65.581274</td>\n",
       "      <td>33.045711</td>\n",
       "      <td>32.550562</td>\n",
       "    </tr>\n",
       "  </tbody>\n",
       "</table>\n",
       "</div>"
      ],
      "text/plain": [
       "                     A           B           C           D\n",
       "2023-01-01    0.000000    0.000000  -68.569274  -55.433353\n",
       "2023-01-02   14.427468  229.698375  -37.594997  -93.396349\n",
       "2023-01-03   82.841072  173.101574 -183.105522   66.614907\n",
       "2023-01-04  188.793517  -56.743774   15.564834 -250.283470\n",
       "2023-01-05  -24.008767   51.855858  187.388929  110.000603\n",
       "2023-01-06   50.625010   65.581274   33.045711   32.550562"
      ]
     },
     "execution_count": 113,
     "metadata": {},
     "output_type": "execute_result"
    }
   ],
   "source": [
    "df.transform(lambda x: x * 101.2)"
   ]
  },
  {
   "cell_type": "code",
   "execution_count": 117,
   "id": "b59490d1",
   "metadata": {},
   "outputs": [
    {
     "data": {
      "text/plain": [
       "0    0\n",
       "1    3\n",
       "2    0\n",
       "3    3\n",
       "4    1\n",
       "5    4\n",
       "6    0\n",
       "7    3\n",
       "8    0\n",
       "9    1\n",
       "dtype: int32"
      ]
     },
     "execution_count": 117,
     "metadata": {},
     "output_type": "execute_result"
    }
   ],
   "source": [
    "s = pd.Series(np.random.randint(0, 7, size=10))\n",
    "s"
   ]
  },
  {
   "cell_type": "code",
   "execution_count": 118,
   "id": "d3088883",
   "metadata": {},
   "outputs": [
    {
     "data": {
      "text/plain": [
       "0    4\n",
       "3    3\n",
       "1    2\n",
       "4    1\n",
       "Name: count, dtype: int64"
      ]
     },
     "execution_count": 118,
     "metadata": {},
     "output_type": "execute_result"
    }
   ],
   "source": [
    "s.value_counts()"
   ]
  },
  {
   "cell_type": "code",
   "execution_count": 120,
   "id": "182d3c1b",
   "metadata": {},
   "outputs": [],
   "source": [
    "s = pd.Series([\"A\", \"B\", \"C\", \"Aaba\", \"Baca\", np.nan, \"CABA\", \"dog\", \"cat\"])"
   ]
  },
  {
   "cell_type": "code",
   "execution_count": 121,
   "id": "ef6f5ae2",
   "metadata": {},
   "outputs": [
    {
     "data": {
      "text/plain": [
       "0       a\n",
       "1       b\n",
       "2       c\n",
       "3    aaba\n",
       "4    baca\n",
       "5     NaN\n",
       "6    caba\n",
       "7     dog\n",
       "8     cat\n",
       "dtype: object"
      ]
     },
     "execution_count": 121,
     "metadata": {},
     "output_type": "execute_result"
    }
   ],
   "source": [
    "s.str.lower()"
   ]
  },
  {
   "cell_type": "code",
   "execution_count": 122,
   "id": "10d60102",
   "metadata": {},
   "outputs": [
    {
     "data": {
      "text/plain": [
       "0       A\n",
       "1       B\n",
       "2       C\n",
       "3    AABA\n",
       "4    BACA\n",
       "5     NaN\n",
       "6    CABA\n",
       "7     DOG\n",
       "8     CAT\n",
       "dtype: object"
      ]
     },
     "execution_count": 122,
     "metadata": {},
     "output_type": "execute_result"
    }
   ],
   "source": [
    "s.str.upper()"
   ]
  },
  {
   "cell_type": "code",
   "execution_count": 123,
   "id": "ca1db1ce",
   "metadata": {},
   "outputs": [
    {
     "data": {
      "text/html": [
       "<div>\n",
       "<style scoped>\n",
       "    .dataframe tbody tr th:only-of-type {\n",
       "        vertical-align: middle;\n",
       "    }\n",
       "\n",
       "    .dataframe tbody tr th {\n",
       "        vertical-align: top;\n",
       "    }\n",
       "\n",
       "    .dataframe thead th {\n",
       "        text-align: right;\n",
       "    }\n",
       "</style>\n",
       "<table border=\"1\" class=\"dataframe\">\n",
       "  <thead>\n",
       "    <tr style=\"text-align: right;\">\n",
       "      <th></th>\n",
       "      <th>0</th>\n",
       "      <th>1</th>\n",
       "      <th>2</th>\n",
       "      <th>3</th>\n",
       "    </tr>\n",
       "  </thead>\n",
       "  <tbody>\n",
       "    <tr>\n",
       "      <th>0</th>\n",
       "      <td>-1.181670</td>\n",
       "      <td>0.862110</td>\n",
       "      <td>-0.347288</td>\n",
       "      <td>0.204457</td>\n",
       "    </tr>\n",
       "    <tr>\n",
       "      <th>1</th>\n",
       "      <td>-1.335663</td>\n",
       "      <td>0.685073</td>\n",
       "      <td>0.663499</td>\n",
       "      <td>1.337165</td>\n",
       "    </tr>\n",
       "    <tr>\n",
       "      <th>2</th>\n",
       "      <td>0.555950</td>\n",
       "      <td>0.446597</td>\n",
       "      <td>-1.766106</td>\n",
       "      <td>-0.762744</td>\n",
       "    </tr>\n",
       "    <tr>\n",
       "      <th>3</th>\n",
       "      <td>-1.663506</td>\n",
       "      <td>0.356902</td>\n",
       "      <td>-0.499622</td>\n",
       "      <td>-0.238223</td>\n",
       "    </tr>\n",
       "    <tr>\n",
       "      <th>4</th>\n",
       "      <td>-0.200312</td>\n",
       "      <td>0.378812</td>\n",
       "      <td>0.205369</td>\n",
       "      <td>-1.446889</td>\n",
       "    </tr>\n",
       "    <tr>\n",
       "      <th>5</th>\n",
       "      <td>2.037204</td>\n",
       "      <td>-0.088155</td>\n",
       "      <td>0.439030</td>\n",
       "      <td>0.133626</td>\n",
       "    </tr>\n",
       "    <tr>\n",
       "      <th>6</th>\n",
       "      <td>-0.671602</td>\n",
       "      <td>0.663133</td>\n",
       "      <td>-0.969837</td>\n",
       "      <td>1.029286</td>\n",
       "    </tr>\n",
       "    <tr>\n",
       "      <th>7</th>\n",
       "      <td>1.583871</td>\n",
       "      <td>0.439203</td>\n",
       "      <td>0.708662</td>\n",
       "      <td>-0.405257</td>\n",
       "    </tr>\n",
       "    <tr>\n",
       "      <th>8</th>\n",
       "      <td>-0.273606</td>\n",
       "      <td>-0.082758</td>\n",
       "      <td>0.229333</td>\n",
       "      <td>1.089141</td>\n",
       "    </tr>\n",
       "    <tr>\n",
       "      <th>9</th>\n",
       "      <td>0.559796</td>\n",
       "      <td>-1.713731</td>\n",
       "      <td>-0.301177</td>\n",
       "      <td>-0.975106</td>\n",
       "    </tr>\n",
       "  </tbody>\n",
       "</table>\n",
       "</div>"
      ],
      "text/plain": [
       "          0         1         2         3\n",
       "0 -1.181670  0.862110 -0.347288  0.204457\n",
       "1 -1.335663  0.685073  0.663499  1.337165\n",
       "2  0.555950  0.446597 -1.766106 -0.762744\n",
       "3 -1.663506  0.356902 -0.499622 -0.238223\n",
       "4 -0.200312  0.378812  0.205369 -1.446889\n",
       "5  2.037204 -0.088155  0.439030  0.133626\n",
       "6 -0.671602  0.663133 -0.969837  1.029286\n",
       "7  1.583871  0.439203  0.708662 -0.405257\n",
       "8 -0.273606 -0.082758  0.229333  1.089141\n",
       "9  0.559796 -1.713731 -0.301177 -0.975106"
      ]
     },
     "execution_count": 123,
     "metadata": {},
     "output_type": "execute_result"
    }
   ],
   "source": [
    "df = pd.DataFrame(np.random.randn(10, 4))\n",
    "df"
   ]
  },
  {
   "cell_type": "code",
   "execution_count": 124,
   "id": "03704334",
   "metadata": {},
   "outputs": [],
   "source": [
    "pieces=[df[:3],df[3:7],df[7:]]"
   ]
  },
  {
   "cell_type": "code",
   "execution_count": 125,
   "id": "92de1464",
   "metadata": {},
   "outputs": [
    {
     "data": {
      "text/html": [
       "<div>\n",
       "<style scoped>\n",
       "    .dataframe tbody tr th:only-of-type {\n",
       "        vertical-align: middle;\n",
       "    }\n",
       "\n",
       "    .dataframe tbody tr th {\n",
       "        vertical-align: top;\n",
       "    }\n",
       "\n",
       "    .dataframe thead th {\n",
       "        text-align: right;\n",
       "    }\n",
       "</style>\n",
       "<table border=\"1\" class=\"dataframe\">\n",
       "  <thead>\n",
       "    <tr style=\"text-align: right;\">\n",
       "      <th></th>\n",
       "      <th>0</th>\n",
       "      <th>1</th>\n",
       "      <th>2</th>\n",
       "      <th>3</th>\n",
       "    </tr>\n",
       "  </thead>\n",
       "  <tbody>\n",
       "    <tr>\n",
       "      <th>0</th>\n",
       "      <td>-1.181670</td>\n",
       "      <td>0.862110</td>\n",
       "      <td>-0.347288</td>\n",
       "      <td>0.204457</td>\n",
       "    </tr>\n",
       "    <tr>\n",
       "      <th>1</th>\n",
       "      <td>-1.335663</td>\n",
       "      <td>0.685073</td>\n",
       "      <td>0.663499</td>\n",
       "      <td>1.337165</td>\n",
       "    </tr>\n",
       "    <tr>\n",
       "      <th>2</th>\n",
       "      <td>0.555950</td>\n",
       "      <td>0.446597</td>\n",
       "      <td>-1.766106</td>\n",
       "      <td>-0.762744</td>\n",
       "    </tr>\n",
       "    <tr>\n",
       "      <th>3</th>\n",
       "      <td>-1.663506</td>\n",
       "      <td>0.356902</td>\n",
       "      <td>-0.499622</td>\n",
       "      <td>-0.238223</td>\n",
       "    </tr>\n",
       "    <tr>\n",
       "      <th>4</th>\n",
       "      <td>-0.200312</td>\n",
       "      <td>0.378812</td>\n",
       "      <td>0.205369</td>\n",
       "      <td>-1.446889</td>\n",
       "    </tr>\n",
       "    <tr>\n",
       "      <th>5</th>\n",
       "      <td>2.037204</td>\n",
       "      <td>-0.088155</td>\n",
       "      <td>0.439030</td>\n",
       "      <td>0.133626</td>\n",
       "    </tr>\n",
       "    <tr>\n",
       "      <th>6</th>\n",
       "      <td>-0.671602</td>\n",
       "      <td>0.663133</td>\n",
       "      <td>-0.969837</td>\n",
       "      <td>1.029286</td>\n",
       "    </tr>\n",
       "    <tr>\n",
       "      <th>7</th>\n",
       "      <td>1.583871</td>\n",
       "      <td>0.439203</td>\n",
       "      <td>0.708662</td>\n",
       "      <td>-0.405257</td>\n",
       "    </tr>\n",
       "    <tr>\n",
       "      <th>8</th>\n",
       "      <td>-0.273606</td>\n",
       "      <td>-0.082758</td>\n",
       "      <td>0.229333</td>\n",
       "      <td>1.089141</td>\n",
       "    </tr>\n",
       "    <tr>\n",
       "      <th>9</th>\n",
       "      <td>0.559796</td>\n",
       "      <td>-1.713731</td>\n",
       "      <td>-0.301177</td>\n",
       "      <td>-0.975106</td>\n",
       "    </tr>\n",
       "  </tbody>\n",
       "</table>\n",
       "</div>"
      ],
      "text/plain": [
       "          0         1         2         3\n",
       "0 -1.181670  0.862110 -0.347288  0.204457\n",
       "1 -1.335663  0.685073  0.663499  1.337165\n",
       "2  0.555950  0.446597 -1.766106 -0.762744\n",
       "3 -1.663506  0.356902 -0.499622 -0.238223\n",
       "4 -0.200312  0.378812  0.205369 -1.446889\n",
       "5  2.037204 -0.088155  0.439030  0.133626\n",
       "6 -0.671602  0.663133 -0.969837  1.029286\n",
       "7  1.583871  0.439203  0.708662 -0.405257\n",
       "8 -0.273606 -0.082758  0.229333  1.089141\n",
       "9  0.559796 -1.713731 -0.301177 -0.975106"
      ]
     },
     "execution_count": 125,
     "metadata": {},
     "output_type": "execute_result"
    }
   ],
   "source": [
    "pd.concat(pieces)"
   ]
  },
  {
   "cell_type": "code",
   "execution_count": 127,
   "id": "8b0e2062",
   "metadata": {},
   "outputs": [
    {
     "data": {
      "text/html": [
       "<div>\n",
       "<style scoped>\n",
       "    .dataframe tbody tr th:only-of-type {\n",
       "        vertical-align: middle;\n",
       "    }\n",
       "\n",
       "    .dataframe tbody tr th {\n",
       "        vertical-align: top;\n",
       "    }\n",
       "\n",
       "    .dataframe thead th {\n",
       "        text-align: right;\n",
       "    }\n",
       "</style>\n",
       "<table border=\"1\" class=\"dataframe\">\n",
       "  <thead>\n",
       "    <tr style=\"text-align: right;\">\n",
       "      <th></th>\n",
       "      <th>A</th>\n",
       "      <th>B</th>\n",
       "      <th>C</th>\n",
       "      <th>D</th>\n",
       "    </tr>\n",
       "  </thead>\n",
       "  <tbody>\n",
       "    <tr>\n",
       "      <th>0</th>\n",
       "      <td>foo</td>\n",
       "      <td>one</td>\n",
       "      <td>1.222585</td>\n",
       "      <td>-0.253565</td>\n",
       "    </tr>\n",
       "    <tr>\n",
       "      <th>1</th>\n",
       "      <td>bar</td>\n",
       "      <td>one</td>\n",
       "      <td>0.372344</td>\n",
       "      <td>-0.429793</td>\n",
       "    </tr>\n",
       "    <tr>\n",
       "      <th>2</th>\n",
       "      <td>foo</td>\n",
       "      <td>two</td>\n",
       "      <td>-0.092883</td>\n",
       "      <td>0.405135</td>\n",
       "    </tr>\n",
       "    <tr>\n",
       "      <th>3</th>\n",
       "      <td>bar</td>\n",
       "      <td>three</td>\n",
       "      <td>0.949962</td>\n",
       "      <td>1.919492</td>\n",
       "    </tr>\n",
       "    <tr>\n",
       "      <th>4</th>\n",
       "      <td>foo</td>\n",
       "      <td>two</td>\n",
       "      <td>0.619769</td>\n",
       "      <td>-0.726960</td>\n",
       "    </tr>\n",
       "    <tr>\n",
       "      <th>5</th>\n",
       "      <td>bar</td>\n",
       "      <td>two</td>\n",
       "      <td>0.993621</td>\n",
       "      <td>1.158223</td>\n",
       "    </tr>\n",
       "    <tr>\n",
       "      <th>6</th>\n",
       "      <td>foo</td>\n",
       "      <td>one</td>\n",
       "      <td>-0.917123</td>\n",
       "      <td>-0.209409</td>\n",
       "    </tr>\n",
       "    <tr>\n",
       "      <th>7</th>\n",
       "      <td>foo</td>\n",
       "      <td>three</td>\n",
       "      <td>-1.035055</td>\n",
       "      <td>-1.615092</td>\n",
       "    </tr>\n",
       "  </tbody>\n",
       "</table>\n",
       "</div>"
      ],
      "text/plain": [
       "     A      B         C         D\n",
       "0  foo    one  1.222585 -0.253565\n",
       "1  bar    one  0.372344 -0.429793\n",
       "2  foo    two -0.092883  0.405135\n",
       "3  bar  three  0.949962  1.919492\n",
       "4  foo    two  0.619769 -0.726960\n",
       "5  bar    two  0.993621  1.158223\n",
       "6  foo    one -0.917123 -0.209409\n",
       "7  foo  three -1.035055 -1.615092"
      ]
     },
     "execution_count": 127,
     "metadata": {},
     "output_type": "execute_result"
    }
   ],
   "source": [
    "df = pd.DataFrame(\n",
    "    {\n",
    "        \"A\": [\"foo\", \"bar\", \"foo\", \"bar\", \"foo\", \"bar\", \"foo\", \"foo\"],\n",
    "        \"B\": [\"one\", \"one\", \"two\", \"three\", \"two\", \"two\", \"one\", \"three\"],\n",
    "        \"C\": np.random.randn(8),\n",
    "        \"D\": np.random.randn(8),\n",
    "    }\n",
    ")\n",
    "df"
   ]
  },
  {
   "cell_type": "code",
   "execution_count": 130,
   "id": "9a2f8c76",
   "metadata": {},
   "outputs": [
    {
     "data": {
      "text/html": [
       "<div>\n",
       "<style scoped>\n",
       "    .dataframe tbody tr th:only-of-type {\n",
       "        vertical-align: middle;\n",
       "    }\n",
       "\n",
       "    .dataframe tbody tr th {\n",
       "        vertical-align: top;\n",
       "    }\n",
       "\n",
       "    .dataframe thead th {\n",
       "        text-align: right;\n",
       "    }\n",
       "</style>\n",
       "<table border=\"1\" class=\"dataframe\">\n",
       "  <thead>\n",
       "    <tr style=\"text-align: right;\">\n",
       "      <th></th>\n",
       "      <th>C</th>\n",
       "      <th>D</th>\n",
       "    </tr>\n",
       "    <tr>\n",
       "      <th>A</th>\n",
       "      <th></th>\n",
       "      <th></th>\n",
       "    </tr>\n",
       "  </thead>\n",
       "  <tbody>\n",
       "    <tr>\n",
       "      <th>bar</th>\n",
       "      <td>2.315928</td>\n",
       "      <td>2.647921</td>\n",
       "    </tr>\n",
       "    <tr>\n",
       "      <th>foo</th>\n",
       "      <td>-0.202707</td>\n",
       "      <td>-2.399891</td>\n",
       "    </tr>\n",
       "  </tbody>\n",
       "</table>\n",
       "</div>"
      ],
      "text/plain": [
       "            C         D\n",
       "A                      \n",
       "bar  2.315928  2.647921\n",
       "foo -0.202707 -2.399891"
      ]
     },
     "execution_count": 130,
     "metadata": {},
     "output_type": "execute_result"
    }
   ],
   "source": [
    "df.groupby(\"A\")[[\"C\", \"D\"]].sum()"
   ]
  },
  {
   "cell_type": "code",
   "execution_count": 131,
   "id": "5c681e94",
   "metadata": {},
   "outputs": [
    {
     "data": {
      "text/html": [
       "<div>\n",
       "<style scoped>\n",
       "    .dataframe tbody tr th:only-of-type {\n",
       "        vertical-align: middle;\n",
       "    }\n",
       "\n",
       "    .dataframe tbody tr th {\n",
       "        vertical-align: top;\n",
       "    }\n",
       "\n",
       "    .dataframe thead th {\n",
       "        text-align: right;\n",
       "    }\n",
       "</style>\n",
       "<table border=\"1\" class=\"dataframe\">\n",
       "  <thead>\n",
       "    <tr style=\"text-align: right;\">\n",
       "      <th></th>\n",
       "      <th></th>\n",
       "      <th>C</th>\n",
       "      <th>D</th>\n",
       "    </tr>\n",
       "    <tr>\n",
       "      <th>A</th>\n",
       "      <th>B</th>\n",
       "      <th></th>\n",
       "      <th></th>\n",
       "    </tr>\n",
       "  </thead>\n",
       "  <tbody>\n",
       "    <tr>\n",
       "      <th rowspan=\"3\" valign=\"top\">bar</th>\n",
       "      <th>one</th>\n",
       "      <td>0.372344</td>\n",
       "      <td>-0.429793</td>\n",
       "    </tr>\n",
       "    <tr>\n",
       "      <th>three</th>\n",
       "      <td>0.949962</td>\n",
       "      <td>1.919492</td>\n",
       "    </tr>\n",
       "    <tr>\n",
       "      <th>two</th>\n",
       "      <td>0.993621</td>\n",
       "      <td>1.158223</td>\n",
       "    </tr>\n",
       "    <tr>\n",
       "      <th rowspan=\"3\" valign=\"top\">foo</th>\n",
       "      <th>one</th>\n",
       "      <td>0.305462</td>\n",
       "      <td>-0.462974</td>\n",
       "    </tr>\n",
       "    <tr>\n",
       "      <th>three</th>\n",
       "      <td>-1.035055</td>\n",
       "      <td>-1.615092</td>\n",
       "    </tr>\n",
       "    <tr>\n",
       "      <th>two</th>\n",
       "      <td>0.526886</td>\n",
       "      <td>-0.321825</td>\n",
       "    </tr>\n",
       "  </tbody>\n",
       "</table>\n",
       "</div>"
      ],
      "text/plain": [
       "                  C         D\n",
       "A   B                        \n",
       "bar one    0.372344 -0.429793\n",
       "    three  0.949962  1.919492\n",
       "    two    0.993621  1.158223\n",
       "foo one    0.305462 -0.462974\n",
       "    three -1.035055 -1.615092\n",
       "    two    0.526886 -0.321825"
      ]
     },
     "execution_count": 131,
     "metadata": {},
     "output_type": "execute_result"
    }
   ],
   "source": [
    "df.groupby([\"A\", \"B\"]).sum()"
   ]
  },
  {
   "cell_type": "code",
   "execution_count": 132,
   "id": "c4d46994",
   "metadata": {},
   "outputs": [],
   "source": [
    " df3 = pd.DataFrame(np.random.randint(0, 5, (10, 5)))"
   ]
  },
  {
   "cell_type": "code",
   "execution_count": 133,
   "id": "f2cabc9c",
   "metadata": {},
   "outputs": [],
   "source": [
    "df3.to_csv(\"trial.csv\")"
   ]
  },
  {
   "cell_type": "code",
   "execution_count": 136,
   "id": "65591777",
   "metadata": {},
   "outputs": [],
   "source": [
    "df=pd.read_csv(\"trial.csv\")"
   ]
  },
  {
   "cell_type": "code",
   "execution_count": 137,
   "id": "0d93e1ba",
   "metadata": {},
   "outputs": [
    {
     "data": {
      "text/html": [
       "<div>\n",
       "<style scoped>\n",
       "    .dataframe tbody tr th:only-of-type {\n",
       "        vertical-align: middle;\n",
       "    }\n",
       "\n",
       "    .dataframe tbody tr th {\n",
       "        vertical-align: top;\n",
       "    }\n",
       "\n",
       "    .dataframe thead th {\n",
       "        text-align: right;\n",
       "    }\n",
       "</style>\n",
       "<table border=\"1\" class=\"dataframe\">\n",
       "  <thead>\n",
       "    <tr style=\"text-align: right;\">\n",
       "      <th></th>\n",
       "      <th>Unnamed: 0</th>\n",
       "      <th>0</th>\n",
       "      <th>1</th>\n",
       "      <th>2</th>\n",
       "      <th>3</th>\n",
       "      <th>4</th>\n",
       "    </tr>\n",
       "  </thead>\n",
       "  <tbody>\n",
       "    <tr>\n",
       "      <th>0</th>\n",
       "      <td>0</td>\n",
       "      <td>1</td>\n",
       "      <td>1</td>\n",
       "      <td>4</td>\n",
       "      <td>1</td>\n",
       "      <td>4</td>\n",
       "    </tr>\n",
       "    <tr>\n",
       "      <th>1</th>\n",
       "      <td>1</td>\n",
       "      <td>4</td>\n",
       "      <td>2</td>\n",
       "      <td>1</td>\n",
       "      <td>0</td>\n",
       "      <td>0</td>\n",
       "    </tr>\n",
       "    <tr>\n",
       "      <th>2</th>\n",
       "      <td>2</td>\n",
       "      <td>4</td>\n",
       "      <td>4</td>\n",
       "      <td>0</td>\n",
       "      <td>1</td>\n",
       "      <td>1</td>\n",
       "    </tr>\n",
       "    <tr>\n",
       "      <th>3</th>\n",
       "      <td>3</td>\n",
       "      <td>2</td>\n",
       "      <td>2</td>\n",
       "      <td>1</td>\n",
       "      <td>3</td>\n",
       "      <td>4</td>\n",
       "    </tr>\n",
       "    <tr>\n",
       "      <th>4</th>\n",
       "      <td>4</td>\n",
       "      <td>3</td>\n",
       "      <td>1</td>\n",
       "      <td>4</td>\n",
       "      <td>2</td>\n",
       "      <td>4</td>\n",
       "    </tr>\n",
       "    <tr>\n",
       "      <th>5</th>\n",
       "      <td>5</td>\n",
       "      <td>0</td>\n",
       "      <td>0</td>\n",
       "      <td>0</td>\n",
       "      <td>0</td>\n",
       "      <td>1</td>\n",
       "    </tr>\n",
       "    <tr>\n",
       "      <th>6</th>\n",
       "      <td>6</td>\n",
       "      <td>1</td>\n",
       "      <td>1</td>\n",
       "      <td>3</td>\n",
       "      <td>4</td>\n",
       "      <td>1</td>\n",
       "    </tr>\n",
       "    <tr>\n",
       "      <th>7</th>\n",
       "      <td>7</td>\n",
       "      <td>1</td>\n",
       "      <td>4</td>\n",
       "      <td>2</td>\n",
       "      <td>1</td>\n",
       "      <td>1</td>\n",
       "    </tr>\n",
       "    <tr>\n",
       "      <th>8</th>\n",
       "      <td>8</td>\n",
       "      <td>4</td>\n",
       "      <td>3</td>\n",
       "      <td>4</td>\n",
       "      <td>4</td>\n",
       "      <td>4</td>\n",
       "    </tr>\n",
       "    <tr>\n",
       "      <th>9</th>\n",
       "      <td>9</td>\n",
       "      <td>0</td>\n",
       "      <td>0</td>\n",
       "      <td>1</td>\n",
       "      <td>1</td>\n",
       "      <td>2</td>\n",
       "    </tr>\n",
       "  </tbody>\n",
       "</table>\n",
       "</div>"
      ],
      "text/plain": [
       "   Unnamed: 0  0  1  2  3  4\n",
       "0           0  1  1  4  1  4\n",
       "1           1  4  2  1  0  0\n",
       "2           2  4  4  0  1  1\n",
       "3           3  2  2  1  3  4\n",
       "4           4  3  1  4  2  4\n",
       "5           5  0  0  0  0  1\n",
       "6           6  1  1  3  4  1\n",
       "7           7  1  4  2  1  1\n",
       "8           8  4  3  4  4  4\n",
       "9           9  0  0  1  1  2"
      ]
     },
     "execution_count": 137,
     "metadata": {},
     "output_type": "execute_result"
    }
   ],
   "source": [
    "df"
   ]
  },
  {
   "cell_type": "code",
   "execution_count": 163,
   "id": "b2cd2068",
   "metadata": {},
   "outputs": [
    {
     "data": {
      "text/html": [
       "<div>\n",
       "<style scoped>\n",
       "    .dataframe tbody tr th:only-of-type {\n",
       "        vertical-align: middle;\n",
       "    }\n",
       "\n",
       "    .dataframe tbody tr th {\n",
       "        vertical-align: top;\n",
       "    }\n",
       "\n",
       "    .dataframe thead th {\n",
       "        text-align: right;\n",
       "    }\n",
       "</style>\n",
       "<table border=\"1\" class=\"dataframe\">\n",
       "  <thead>\n",
       "    <tr style=\"text-align: right;\">\n",
       "      <th></th>\n",
       "      <th>A</th>\n",
       "      <th>B</th>\n",
       "      <th>C</th>\n",
       "      <th>D</th>\n",
       "      <th>E</th>\n",
       "    </tr>\n",
       "  </thead>\n",
       "  <tbody>\n",
       "    <tr>\n",
       "      <th>0</th>\n",
       "      <td>0</td>\n",
       "      <td>2</td>\n",
       "      <td>1</td>\n",
       "      <td>2</td>\n",
       "      <td>1</td>\n",
       "    </tr>\n",
       "    <tr>\n",
       "      <th>1</th>\n",
       "      <td>4</td>\n",
       "      <td>2</td>\n",
       "      <td>2</td>\n",
       "      <td>1</td>\n",
       "      <td>1</td>\n",
       "    </tr>\n",
       "    <tr>\n",
       "      <th>2</th>\n",
       "      <td>2</td>\n",
       "      <td>0</td>\n",
       "      <td>4</td>\n",
       "      <td>3</td>\n",
       "      <td>2</td>\n",
       "    </tr>\n",
       "    <tr>\n",
       "      <th>3</th>\n",
       "      <td>4</td>\n",
       "      <td>2</td>\n",
       "      <td>4</td>\n",
       "      <td>4</td>\n",
       "      <td>2</td>\n",
       "    </tr>\n",
       "    <tr>\n",
       "      <th>4</th>\n",
       "      <td>2</td>\n",
       "      <td>3</td>\n",
       "      <td>2</td>\n",
       "      <td>2</td>\n",
       "      <td>3</td>\n",
       "    </tr>\n",
       "    <tr>\n",
       "      <th>5</th>\n",
       "      <td>4</td>\n",
       "      <td>0</td>\n",
       "      <td>1</td>\n",
       "      <td>1</td>\n",
       "      <td>1</td>\n",
       "    </tr>\n",
       "    <tr>\n",
       "      <th>6</th>\n",
       "      <td>3</td>\n",
       "      <td>1</td>\n",
       "      <td>1</td>\n",
       "      <td>2</td>\n",
       "      <td>0</td>\n",
       "    </tr>\n",
       "    <tr>\n",
       "      <th>7</th>\n",
       "      <td>4</td>\n",
       "      <td>2</td>\n",
       "      <td>1</td>\n",
       "      <td>1</td>\n",
       "      <td>4</td>\n",
       "    </tr>\n",
       "    <tr>\n",
       "      <th>8</th>\n",
       "      <td>1</td>\n",
       "      <td>4</td>\n",
       "      <td>3</td>\n",
       "      <td>4</td>\n",
       "      <td>3</td>\n",
       "    </tr>\n",
       "    <tr>\n",
       "      <th>9</th>\n",
       "      <td>1</td>\n",
       "      <td>3</td>\n",
       "      <td>2</td>\n",
       "      <td>3</td>\n",
       "      <td>4</td>\n",
       "    </tr>\n",
       "  </tbody>\n",
       "</table>\n",
       "</div>"
      ],
      "text/plain": [
       "   A  B  C  D  E\n",
       "0  0  2  1  2  1\n",
       "1  4  2  2  1  1\n",
       "2  2  0  4  3  2\n",
       "3  4  2  4  4  2\n",
       "4  2  3  2  2  3\n",
       "5  4  0  1  1  1\n",
       "6  3  1  1  2  0\n",
       "7  4  2  1  1  4\n",
       "8  1  4  3  4  3\n",
       "9  1  3  2  3  4"
      ]
     },
     "execution_count": 163,
     "metadata": {},
     "output_type": "execute_result"
    }
   ],
   "source": [
    "df=pd.DataFrame(np.random.randint(0, 5, (10, 5)), columns=list('ABCDE'))\n",
    "df"
   ]
  },
  {
   "cell_type": "code",
   "execution_count": null,
   "id": "e63e6984",
   "metadata": {},
   "outputs": [],
   "source": [
    "# How to change the name of columns? How to add names to the columns?"
   ]
  },
  {
   "cell_type": "code",
   "execution_count": null,
   "id": "9774a60a",
   "metadata": {},
   "outputs": [],
   "source": []
  }
 ],
 "metadata": {
  "kernelspec": {
   "display_name": "Python 3 (ipykernel)",
   "language": "python",
   "name": "python3"
  },
  "language_info": {
   "codemirror_mode": {
    "name": "ipython",
    "version": 3
   },
   "file_extension": ".py",
   "mimetype": "text/x-python",
   "name": "python",
   "nbconvert_exporter": "python",
   "pygments_lexer": "ipython3",
   "version": "3.11.5"
  }
 },
 "nbformat": 4,
 "nbformat_minor": 5
}
